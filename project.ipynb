{
 "cells": [
  {
   "cell_type": "code",
   "execution_count": 28,
   "metadata": {},
   "outputs": [
    {
     "name": "stdout",
     "output_type": "stream",
     "text": [
      "Requirement already satisfied: nltk in c:\\users\\lucas\\appdata\\roaming\\python\\python312\\site-packages (3.9.1)\n",
      "Requirement already satisfied: click in c:\\users\\lucas\\appdata\\local\\programs\\python\\python312\\lib\\site-packages (from nltk) (8.1.8)\n",
      "Requirement already satisfied: joblib in c:\\users\\lucas\\appdata\\local\\programs\\python\\python312\\lib\\site-packages (from nltk) (1.3.2)\n",
      "Requirement already satisfied: regex>=2021.8.3 in c:\\users\\lucas\\appdata\\local\\programs\\python\\python312\\lib\\site-packages (from nltk) (2024.11.6)\n",
      "Requirement already satisfied: tqdm in c:\\users\\lucas\\appdata\\local\\programs\\python\\python312\\lib\\site-packages (from nltk) (4.67.1)\n",
      "Requirement already satisfied: colorama in c:\\users\\lucas\\appdata\\roaming\\python\\python312\\site-packages (from click->nltk) (0.4.6)\n"
     ]
    }
   ],
   "source": [
    "!pip install --user nltk\n",
    "\n",
    "# !pip install lxml"
   ]
  },
  {
   "cell_type": "markdown",
   "metadata": {},
   "source": [
    "## Retreive document"
   ]
  },
  {
   "cell_type": "code",
   "execution_count": 29,
   "metadata": {},
   "outputs": [
    {
     "name": "stdout",
     "output_type": "stream",
     "text": [
      "len(documents): 1400\n",
      "('471', None, None, None, None)\n",
      "('995', None, None, None, None)\n",
      "len(documents): 1398\n",
      "[('1', 'experimental investigation of the aerodynamics of a\\nwing in a slipstream .', 'brenckman,m.', 'j. ae. scs. 25, 1958, 324.', 'experimental investigation of the aerodynamics of a\\nwing in a slipstream .\\n  an experimental study of a wing in a propeller slipstream was\\nmade in order to determine the spanwise distribution of the lift\\nincrease due to slipstream at different angles of attack of the wing\\nand at different free stream to slipstream velocity ratios .  the\\nresults were intended in part as an evaluation basis for different\\ntheoretical treatments of this problem .\\n  the comparative span loading curves, together with\\nsupporting evidence, showed that a substantial part of the lift increment\\nproduced by the slipstream was due to a /destalling/ or\\nboundary-layer-control effect .  the integrated remaining lift\\nincrement, after subtracting this destalling lift, was found to agree\\nwell with a potential flow theory .\\n  an empirical evaluation of the destalling effects was made for\\nthe specific configuration of the experiment .'), ('2', 'simple shear flow past a flat plate in an incompressible fluid of small\\nviscosity .', 'ting-yili', 'department of aeronautical engineering, rensselaer polytechnic\\ninstitute\\ntroy, n.y.', \"simple shear flow past a flat plate in an incompressible fluid of small\\nviscosity .\\nin the study of high-speed viscous flow past a two-dimensional body it\\nis usually necessary to consider a curved shock wave emitting from the\\nnose or leading edge of the body .  consequently, there exists an\\ninviscid rotational flow region between the shock wave and the boundary\\nlayer .  such a situation arises, for instance, in the study of the\\nhypersonic viscous flow past a flat plate .  the situation is somewhat\\ndifferent from prandtl's classical boundary-layer problem . in prandtl's\\noriginal problem the inviscid free stream outside the boundary layer is\\nirrotational while in a hypersonic boundary-layer problem the inviscid\\nfree stream must be considered as rotational .  the possible effects of\\nvorticity have been recently discussed by ferri and libby .  in the\\npresent paper, the simple shear flow past a flat plate in a fluid of small\\nviscosity is investigated .  it can be shown that this problem can again\\nbe treated by the boundary-layer approximation, the only novel feature\\nbeing that the free stream has a constant vorticity .  the discussion\\nhere is restricted to two-dimensional incompressible steady flow .\"), ('3', 'the boundary layer in simple shear flow past a flat plate .', 'm. b. glauert', 'department of mathematics, university of manchester, manchester,\\nengland', 'the boundary layer in simple shear flow past a flat plate .\\nthe boundary-layer equations are presented for steady\\nincompressible flow with no pressure gradient .'), ('4', 'approximate solutions of the incompressible laminar\\nboundary layer equations for a plate in shear flow .', 'yen,k.t.', 'j. ae. scs. 22, 1955, 728.', 'approximate solutions of the incompressible laminar\\nboundary layer equations for a plate in shear flow .\\n  the two-dimensional steady boundary-layer\\nproblem for a flat plate in a\\nshear flow of incompressible fluid is considered .\\nsolutions for the boundary-\\nlayer thickness, skin friction, and the velocity\\ndistribution in the boundary\\nlayer are obtained by the karman-pohlhausen\\ntechnique .  comparison with\\nthe boundary layer of a uniform flow has also\\nbeen made to show the effect of\\nvorticity .'), ('5', 'one-dimensional transient heat conduction into a double-layer\\nslab subjected to a linear heat input for a small time\\ninternal .', 'wasserman,b.', 'j. ae. scs. 24, 1957, 924.', 'one-dimensional transient heat conduction into a double-layer\\nslab subjected to a linear heat input for a small time\\ninternal .\\n  analytic solutions are presented for the transient heat\\nconduction in composite slabs exposed at one surface to a\\ntriangular heat rate .  this type of heating rate may occur, for\\nexample, during aerodynamic heating .')]\n"
     ]
    }
   ],
   "source": [
    "from lxml import etree\n",
    "\n",
    "def parse_xml(xml_file):\n",
    "    tree = etree.parse(xml_file)\n",
    "    root = tree.getroot()\n",
    "    \n",
    "    documents = []\n",
    "    for doc in root.findall('.//doc'):  # Look for all <doc> elements\n",
    "        docno = doc.find('.//docno').text\n",
    "        title = doc.find('.//title').text\n",
    "        author = doc.find('.//author').text\n",
    "        bib = doc.find('.//bib').text\n",
    "        text = doc.find('.//text').text\n",
    "        documents.append((docno, title, author, bib, text))\n",
    "    return documents\n",
    "\n",
    "\n",
    "documents = parse_xml(\"cran.all.1400.xml\")\n",
    "print(\"len(documents):\", len(documents))\n",
    "for row in documents:\n",
    "    if row[4] is None:\n",
    "        print(row)\n",
    "    \n",
    "documents = [row for row in documents if row[4] is not None]\n",
    "\n",
    "print(\"len(documents):\", len(documents))\n",
    "print(documents[:5])  # Display first 5 documents for inspection\n"
   ]
  },
  {
   "cell_type": "code",
   "execution_count": 30,
   "metadata": {},
   "outputs": [
    {
     "name": "stderr",
     "output_type": "stream",
     "text": [
      "[nltk_data] Downloading package punkt to\n",
      "[nltk_data]     C:\\Users\\Lucas\\AppData\\Roaming\\nltk_data...\n",
      "[nltk_data]   Package punkt is already up-to-date!\n"
     ]
    },
    {
     "data": {
      "text/plain": [
       "True"
      ]
     },
     "execution_count": 30,
     "metadata": {},
     "output_type": "execute_result"
    }
   ],
   "source": [
    "import nltk\n",
    "nltk.download('punkt')"
   ]
  },
  {
   "cell_type": "markdown",
   "metadata": {},
   "source": [
    "### process text"
   ]
  },
  {
   "cell_type": "code",
   "execution_count": 31,
   "metadata": {},
   "outputs": [
    {
     "name": "stdout",
     "output_type": "stream",
     "text": [
      "['quick', 'brown', 'fox', 'run', 'fast', 'look', 'like', 'fli', 'fuck', 'sake']\n"
     ]
    },
    {
     "name": "stderr",
     "output_type": "stream",
     "text": [
      "[nltk_data] Downloading package wordnet to\n",
      "[nltk_data]     C:\\Users\\Lucas\\AppData\\Roaming\\nltk_data...\n",
      "[nltk_data]   Package wordnet is already up-to-date!\n",
      "[nltk_data] Downloading package stopwords to\n",
      "[nltk_data]     C:\\Users\\Lucas\\AppData\\Roaming\\nltk_data...\n",
      "[nltk_data]   Package stopwords is already up-to-date!\n"
     ]
    }
   ],
   "source": [
    "\n",
    "from nltk.corpus import stopwords\n",
    "from nltk.stem import PorterStemmer\n",
    "import re\n",
    "import nltk\n",
    "from nltk.stem import WordNetLemmatizer\n",
    "nltk.download('wordnet')  # Download WordNet data\n",
    "nltk.download('stopwords')  # Download stopwords list\n",
    "from nltk.tokenize import word_tokenize\n",
    "\n",
    "\n",
    "def preprocess_text(text):\n",
    "    # Remove newline characters and extra spaces\n",
    "    text = re.sub(r'\\s+', ' ', text)  # Replace all kinds of whitespace with a single space\n",
    "    text = text.strip()  # Remove leading/trailing whitespace\n",
    "    text = text.lower()\n",
    "\n",
    "    text = re.sub(r'[^\\w\\s]', '', text)  # Keep only alphanumeric and whitespace characters\n",
    "    tokens = word_tokenize(text)\n",
    "\n",
    "    # Remove stopwords\n",
    "    stop_words = set(stopwords.words('english'))\n",
    "    filtered_tokens = [word for word in tokens if word not in stop_words]\n",
    "\n",
    "    # Apply stemming\n",
    "    stemmer = PorterStemmer()\n",
    "    filtered_tokens = [stemmer.stem(word) for word in filtered_tokens]\n",
    "    return filtered_tokens\n",
    "\n",
    "example_text = \"The quick brown fox is running fast but it looks like he is flying for fuck sake!\"\n",
    "processed_text = preprocess_text(example_text)\n",
    "print(processed_text)\n"
   ]
  },
  {
   "cell_type": "markdown",
   "metadata": {},
   "source": [
    "# Create Inverted Index Matrix"
   ]
  },
  {
   "cell_type": "code",
   "execution_count": 32,
   "metadata": {},
   "outputs": [
    {
     "name": "stdout",
     "output_type": "stream",
     "text": [
      "{'experiment': [('1', 3), ('11', 1), ('12', 1), ('16', 1), ('17', 1), ('19', 1), ('25', 1), ('29', 1), ('30', 2), ('35', 1), ('37', 1), ('41', 1), ('43', 1), ('47', 1), ('52', 2), ('53', 1), ('58', 1), ('69', 1), ('70', 1), ('74', 2), ('78', 2), ('84', 3), ('99', 2), ('101', 1), ('103', 1), ('112', 1), ('115', 1), ('121', 1), ('123', 3), ('131', 1), ('137', 1), ('140', 1), ('142', 1), ('154', 1), ('156', 1), ('167', 1), ('168', 1), ('170', 1), ('171', 2), ('173', 2), ('176', 1), ('179', 2), ('183', 1), ('184', 1), ('186', 3), ('187', 1), ('188', 1), ('189', 2), ('191', 1), ('195', 3), ('197', 2), ('202', 1), ('203', 1), ('206', 2), ('207', 2), ('212', 1), ('216', 1), ('220', 1), ('222', 1), ('225', 2), ('227', 1), ('230', 1), ('234', 4), ('245', 1), ('251', 1), ('256', 3), ('257', 1), ('262', 1), ('271', 3), ('273', 1), ('277', 1), ('282', 1), ('283', 1), ('286', 1), ('287', 1), ('289', 1), ('294', 1), ('295', 1), ('304', 1), ('307', 1), ('329', 2), ('330', 2), ('334', 2), ('338', 1), ('339', 2), ('344', 3), ('345', 1), ('346', 3), ('347', 1), ('354', 1), ('360', 1), ('369', 1), ('370', 1), ('372', 3), ('377', 1), ('397', 1), ('409', 1), ('411', 2), ('413', 2), ('418', 1), ('420', 2), ('421', 1), ('423', 2), ('427', 1), ('433', 1), ('435', 1), ('439', 1), ('441', 2), ('442', 3), ('443', 1), ('453', 1), ('455', 2), ('462', 1), ('464', 1), ('467', 1), ('484', 3), ('494', 2), ('496', 1), ('497', 2), ('498', 1), ('501', 1), ('503', 1), ('504', 1), ('505', 1), ('511', 1), ('517', 1), ('518', 2), ('519', 1), ('520', 2), ('522', 3), ('536', 1), ('540', 1), ('544', 3), ('549', 2), ('552', 2), ('553', 1), ('558', 2), ('563', 1), ('567', 1), ('569', 2), ('572', 4), ('576', 1), ('588', 1), ('595', 1), ('600', 1), ('606', 1), ('610', 1), ('632', 1), ('634', 1), ('635', 1), ('636', 1), ('644', 1), ('645', 1), ('649', 1), ('658', 1), ('662', 2), ('663', 2), ('666', 2), ('670', 1), ('675', 1), ('678', 1), ('679', 1), ('685', 3), ('688', 4), ('689', 2), ('694', 1), ('704', 2), ('712', 1), ('713', 1), ('717', 1), ('720', 1), ('725', 1), ('728', 1), ('729', 1), ('739', 1), ('740', 1), ('743', 1), ('753', 1), ('760', 3), ('764', 1), ('766', 4), ('767', 3), ('772', 3), ('781', 2), ('790', 1), ('801', 3), ('802', 1), ('806', 1), ('816', 2), ('820', 1), ('823', 2), ('825', 1), ('827', 2), ('830', 1), ('836', 5), ('844', 1), ('845', 2), ('846', 1), ('847', 2), ('856', 4), ('857', 3), ('858', 3), ('863', 2), ('866', 2), ('867', 1), ('869', 1), ('878', 2), ('881', 1), ('887', 1), ('891', 2), ('907', 1), ('911', 2), ('912', 2), ('923', 1), ('924', 1), ('927', 3), ('928', 3), ('932', 2), ('935', 2), ('946', 2), ('950', 4), ('951', 1), ('954', 2), ('955', 1), ('959', 1), ('961', 1), ('964', 1), ('965', 1), ('973', 1), ('974', 1), ('984', 2), ('986', 4), ('996', 1), ('997', 4), ('999', 1), ('1006', 1), ('1008', 1), ('1016', 1), ('1019', 3), ('1028', 1), ('1039', 3), ('1040', 1), ('1045', 1), ('1046', 1), ('1049', 2), ('1051', 1), ('1062', 3), ('1066', 4), ('1069', 1), ('1070', 1), ('1074', 3), ('1075', 3), ('1076', 1), ('1078', 1), ('1080', 1), ('1081', 1), ('1082', 1), ('1083', 1), ('1092', 1), ('1097', 3), ('1098', 2), ('1110', 1), ('1112', 1), ('1118', 2), ('1122', 2), ('1125', 1), ('1127', 1), ('1145', 1), ('1146', 1), ('1151', 1), ('1153', 1), ('1155', 2), ('1156', 3), ('1158', 1), ('1159', 2), ('1160', 2), ('1161', 2), ('1167', 2), ('1171', 1), ('1172', 1), ('1177', 1), ('1185', 1), ('1186', 1), ('1187', 1), ('1192', 1), ('1195', 1), ('1196', 2), ('1198', 1), ('1199', 1), ('1204', 3), ('1205', 1), ('1209', 3), ('1212', 1), ('1213', 2), ('1214', 3), ('1216', 1), ('1218', 2), ('1220', 1), ('1222', 1), ('1225', 3), ('1227', 1), ('1228', 1), ('1230', 1), ('1231', 1), ('1234', 1), ('1237', 1), ('1261', 1), ('1262', 1), ('1263', 2), ('1264', 2), ('1268', 1), ('1269', 2), ('1277', 2), ('1290', 1), ('1298', 1), ('1302', 2), ('1310', 1), ('1314', 2), ('1317', 1), ('1319', 1), ('1324', 1), ('1337', 3), ('1338', 2), ('1339', 1), ('1341', 1), ('1352', 2), ('1363', 2), ('1364', 2), ('1369', 1), ('1372', 1), ('1374', 1), ('1378', 1), ('1384', 1), ('1390', 1), ('1392', 1), ('1396', 1), ('1397', 1)], 'investig': [('1', 2), ('2', 1), ('7', 1), ('8', 1), ('9', 3), ('19', 2), ('29', 1), ('30', 2), ('34', 2), ('37', 3), ('40', 2), ('42', 1), ('44', 2), ('45', 2), ('50', 3), ('51', 1), ('56', 2), ('57', 1), ('72', 1), ('73', 3), ('74', 1), ('78', 1), ('79', 2), ('80', 1), ('82', 4), ('84', 4), ('87', 1), ('89', 4), ('90', 1), ('94', 1), ('99', 2), ('102', 1), ('104', 1), ('105', 1), ('116', 1), ('120', 1), ('123', 1), ('126', 4), ('128', 1), ('129', 4), ('131', 2), ('133', 1), ('135', 1), ('139', 1), ('165', 1), ('170', 1), ('173', 1), ('174', 3), ('175', 1), ('176', 1), ('177', 2), ('179', 2), ('182', 1), ('184', 1), ('185', 1), ('187', 2), ('188', 2), ('189', 4), ('193', 3), ('195', 1), ('197', 1), ('198', 5), ('202', 2), ('205', 1), ('207', 2), ('212', 1), ('213', 1), ('214', 1), ('215', 1), ('216', 2), ('219', 1), ('222', 3), ('225', 1), ('228', 1), ('232', 3), ('233', 1), ('243', 4), ('245', 1), ('246', 1), ('251', 1), ('252', 2), ('256', 1), ('260', 1), ('261', 1), ('265', 1), ('272', 1), ('274', 1), ('280', 1), ('284', 1), ('287', 1), ('288', 2), ('293', 1), ('294', 2), ('312', 1), ('314', 1), ('317', 1), ('324', 1), ('330', 1), ('334', 1), ('339', 1), ('342', 1), ('344', 1), ('364', 1), ('365', 1), ('370', 1), ('372', 4), ('374', 3), ('381', 1), ('390', 1), ('393', 1), ('421', 1), ('423', 2), ('427', 2), ('432', 1), ('433', 1), ('434', 2), ('436', 1), ('442', 3), ('454', 1), ('462', 2), ('463', 4), ('464', 1), ('465', 1), ('466', 1), ('469', 1), ('470', 1), ('474', 1), ('486', 1), ('490', 1), ('495', 1), ('497', 3), ('505', 1), ('513', 1), ('516', 1), ('519', 1), ('522', 3), ('527', 2), ('529', 1), ('535', 1), ('540', 2), ('542', 1), ('549', 2), ('552', 3), ('553', 1), ('554', 1), ('565', 1), ('566', 2), ('567', 2), ('569', 2), ('571', 1), ('610', 1), ('618', 2), ('623', 1), ('625', 4), ('627', 2), ('634', 1), ('635', 1), ('636', 2), ('638', 1), ('643', 3), ('651', 1), ('655', 1), ('658', 2), ('662', 3), ('665', 1), ('673', 5), ('679', 1), ('689', 3), ('692', 4), ('693', 4), ('694', 1), ('695', 2), ('696', 2), ('699', 1), ('700', 1), ('709', 1), ('710', 2), ('711', 3), ('712', 6), ('713', 3), ('730', 1), ('739', 1), ('741', 1), ('743', 1), ('747', 2), ('757', 2), ('759', 2), ('763', 1), ('766', 2), ('772', 1), ('773', 1), ('780', 2), ('782', 4), ('796', 2), ('797', 1), ('799', 1), ('801', 2), ('804', 2), ('808', 3), ('809', 3), ('811', 3), ('812', 2), ('815', 2), ('816', 2), ('818', 1), ('825', 1), ('826', 1), ('827', 1), ('828', 1), ('830', 1), ('836', 2), ('838', 1), ('841', 2), ('844', 1), ('845', 1), ('850', 1), ('855', 1), ('857', 1), ('858', 2), ('859', 1), ('863', 1), ('875', 2), ('878', 2), ('887', 2), ('892', 1), ('893', 2), ('894', 1), ('902', 2), ('905', 2), ('907', 2), ('912', 1), ('926', 1), ('927', 3), ('932', 1), ('933', 2), ('946', 4), ('952', 1), ('953', 1), ('958', 1), ('959', 2), ('960', 2), ('970', 1), ('971', 2), ('972', 1), ('975', 1), ('986', 4), ('987', 1), ('991', 1), ('992', 2), ('993', 2), ('994', 4), ('996', 2), ('997', 1), ('999', 1), ('1001', 2), ('1002', 3), ('1004', 1), ('1019', 1), ('1039', 2), ('1047', 1), ('1056', 1), ('1062', 2), ('1063', 1), ('1065', 2), ('1066', 4), ('1068', 1), ('1072', 1), ('1074', 2), ('1075', 2), ('1078', 1), ('1081', 1), ('1082', 2), ('1083', 2), ('1091', 2), ('1092', 1), ('1093', 1), ('1094', 3), ('1095', 3), ('1097', 1), ('1098', 2), ('1100', 2), ('1104', 1), ('1114', 1), ('1116', 1), ('1119', 1), ('1130', 2), ('1144', 2), ('1145', 1), ('1146', 1), ('1153', 1), ('1155', 3), ('1156', 4), ('1159', 2), ('1161', 1), ('1162', 4), ('1163', 4), ('1164', 2), ('1165', 2), ('1166', 3), ('1171', 1), ('1172', 1), ('1173', 2), ('1177', 1), ('1190', 1), ('1191', 1), ('1192', 2), ('1194', 2), ('1199', 3), ('1205', 1), ('1211', 1), ('1213', 1), ('1220', 1), ('1222', 1), ('1225', 2), ('1227', 1), ('1230', 1), ('1231', 1), ('1239', 1), ('1243', 1), ('1247', 2), ('1249', 1), ('1252', 1), ('1253', 1), ('1257', 1), ('1271', 1), ('1272', 1), ('1274', 3), ('1277', 1), ('1290', 1), ('1303', 1), ('1305', 3), ('1309', 1), ('1313', 4), ('1317', 1), ('1319', 3), ('1320', 2), ('1323', 3), ('1326', 1), ('1333', 1), ('1335', 1), ('1337', 1), ('1338', 3), ('1341', 3), ('1342', 1), ('1343', 1), ('1349', 1), ('1350', 1), ('1352', 3), ('1353', 3), ('1354', 3), ('1364', 4), ('1367', 3), ('1371', 1), ('1373', 1), ('1377', 2), ('1381', 2), ('1383', 1), ('1387', 1), ('1393', 1), ('1395', 1), ('1400', 1)], 'aerodynam': [('1', 2), ('5', 1), ('11', 1), ('13', 1), ('14', 6), ('19', 1), ('29', 3), ('32', 1), ('36', 1), ('44', 3), ('51', 5), ('52', 2), ('66', 5), ('73', 1), ('77', 2), ('95', 1), ('120', 1), ('129', 1), ('137', 3), ('141', 2), ('142', 2), ('163', 4), ('164', 1), ('172', 4), ('185', 2), ('202', 4), ('203', 1), ('204', 2), ('205', 2), ('216', 1), ('225', 2), ('237', 1), ('244', 1), ('272', 2), ('277', 1), ('284', 1), ('287', 3), ('289', 2), ('296', 2), ('297', 1), ('329', 4), ('337', 1), ('342', 1), ('360', 1), ('370', 1), ('379', 1), ('390', 2), ('391', 3), ('406', 1), ('415', 3), ('434', 1), ('441', 6), ('442', 1), ('452', 1), ('453', 3), ('464', 1), ('481', 1), ('486', 1), ('499', 2), ('530', 2), ('536', 1), ('544', 1), ('546', 2), ('567', 3), ('592', 1), ('598', 1), ('599', 2), ('606', 4), ('608', 2), ('625', 1), ('627', 1), ('632', 1), ('634', 2), ('635', 1), ('638', 4), ('650', 1), ('658', 5), ('671', 1), ('685', 3), ('688', 4), ('689', 3), ('698', 1), ('704', 2), ('707', 1), ('708', 2), ('709', 2), ('711', 3), ('712', 3), ('715', 5), ('716', 1), ('717', 3), ('719', 2), ('746', 1), ('748', 3), ('749', 6), ('753', 6), ('759', 3), ('780', 1), ('781', 2), ('783', 2), ('792', 1), ('794', 1), ('798', 1), ('801', 2), ('812', 2), ('813', 2), ('814', 1), ('815', 4), ('859', 4), ('860', 4), ('861', 2), ('877', 3), ('886', 1), ('892', 1), ('894', 1), ('896', 1), ('899', 3), ('902', 1), ('917', 1), ('919', 1), ('925', 1), ('927', 1), ('933', 1), ('939', 1), ('947', 2), ('972', 2), ('978', 1), ('981', 1), ('982', 1), ('999', 4), ('1005', 1), ('1008', 1), ('1064', 1), ('1066', 10), ('1089', 2), ('1104', 3), ('1112', 3), ('1115', 3), ('1147', 1), ('1156', 1), ('1162', 1), ('1163', 1), ('1164', 3), ('1195', 1), ('1197', 4), ('1206', 1), ('1209', 2), ('1244', 3), ('1246', 1), ('1259', 1), ('1271', 2), ('1272', 3), ('1274', 1), ('1289', 2), ('1291', 2), ('1305', 1), ('1314', 1), ('1319', 1), ('1320', 2), ('1328', 2), ('1331', 1), ('1332', 2), ('1333', 5), ('1334', 3), ('1335', 4), ('1336', 2), ('1339', 2), ('1340', 1), ('1342', 3), ('1343', 1), ('1345', 3), ('1347', 2), ('1352', 3), ('1379', 2), ('1380', 5), ('1391', 1)], 'wing': [('1', 4), ('13', 4), ('14', 4), ('30', 3), ('31', 3), ('42', 6), ('52', 7), ('60', 1), ('69', 1), ('76', 3), ('78', 2), ('95', 3), ('97', 1), ('146', 4), ('147', 7), ('189', 5), ('191', 1), ('195', 4), ('199', 2), ('200', 6), ('202', 2), ('204', 5), ('205', 9), ('222', 6), ('224', 1), ('225', 11), ('226', 2), ('227', 5), ('229', 9), ('230', 7), ('244', 1), ('246', 4), ('247', 8), ('250', 5), ('251', 3), ('252', 1), ('256', 1), ('265', 1), ('279', 5), ('284', 4), ('287', 4), ('288', 7), ('289', 6), ('290', 1), ('311', 2), ('313', 1), ('315', 3), ('316', 1), ('333', 3), ('336', 2), ('360', 1), ('362', 1), ('364', 1), ('379', 1), ('395', 1), ('415', 2), ('416', 1), ('420', 9), ('431', 1), ('432', 5), ('433', 16), ('434', 5), ('441', 1), ('442', 5), ('453', 4), ('464', 9), ('465', 4), ('466', 1), ('486', 1), ('497', 4), ('503', 1), ('512', 1), ('513', 4), ('520', 5), ('545', 1), ('547', 3), ('561', 4), ('599', 2), ('600', 4), ('601', 5), ('612', 4), ('632', 4), ('633', 3), ('636', 2), ('637', 4), ('638', 7), ('643', 4), ('652', 2), ('671', 3), ('672', 1), ('673', 12), ('674', 4), ('675', 5), ('676', 4), ('677', 5), ('678', 6), ('679', 3), ('680', 5), ('681', 4), ('682', 3), ('683', 8), ('686', 2), ('692', 2), ('693', 3), ('694', 4), ('695', 5), ('696', 13), ('698', 7), ('699', 11), ('700', 3), ('703', 2), ('704', 3), ('705', 3), ('708', 3), ('709', 2), ('711', 1), ('712', 11), ('714', 1), ('747', 2), ('748', 4), ('749', 7), ('752', 4), ('755', 3), ('757', 3), ('768', 3), ('779', 9), ('780', 4), ('781', 2), ('783', 4), ('791', 4), ('792', 4), ('793', 5), ('794', 9), ('795', 1), ('796', 2), ('797', 9), ('798', 3), ('803', 3), ('808', 1), ('811', 5), ('860', 4), ('877', 5), ('879', 1), ('883', 1), ('895', 3), ('901', 3), ('902', 7), ('916', 5), ('917', 4), ('918', 3), ('919', 6), ('920', 3), ('921', 6), ('923', 3), ('924', 6), ('929', 2), ('970', 7), ('1062', 2), ('1064', 4), ('1074', 3), ('1075', 7), ('1089', 2), ('1091', 4), ('1092', 9), ('1094', 5), ('1095', 4), ('1108', 1), ('1111', 1), ('1115', 4), ('1128', 1), ('1144', 1), ('1162', 2), ('1163', 2), ('1164', 4), ('1168', 1), ('1169', 2), ('1170', 1), ('1184', 1), ('1186', 4), ('1188', 2), ('1197', 3), ('1202', 2), ('1207', 2), ('1208', 2), ('1218', 3), ('1220', 1), ('1229', 6), ('1233', 1), ('1239', 11), ('1243', 2), ('1246', 6), ('1266', 3), ('1272', 1), ('1276', 2), ('1277', 3), ('1280', 6), ('1289', 7), ('1290', 4), ('1294', 1), ('1320', 1), ('1328', 1), ('1331', 2), ('1332', 5), ('1333', 7), ('1334', 6), ('1336', 2), ('1337', 6), ('1338', 3), ('1339', 5), ('1340', 7), ('1341', 10), ('1342', 6), ('1343', 7), ('1355', 2), ('1362', 4), ('1380', 1)], 'slipstream': [('1', 6), ('409', 1), ('453', 6), ('484', 7), ('1064', 5), ('1090', 1), ('1091', 1), ('1094', 4), ('1095', 2), ('1144', 10), ('1164', 1), ('1165', 1), ('1166', 1)]}\n"
     ]
    }
   ],
   "source": [
    "from collections import defaultdict\n",
    "\n",
    "def build_inverted_index(documents):\n",
    "    inverted_index = defaultdict(list)  # {term: [(doc_id, freq), ...]}\n",
    "    \n",
    "    for doc_id, title, author, bib, text in documents:\n",
    "        if not text:  # Skip documents without text\n",
    "            continue\n",
    "        else:\n",
    "            if not author:\n",
    "                author = \"\"\n",
    "            if not bib:\n",
    "                bib = \"\"\n",
    "            processed_text = preprocess_text(title + \" \" + text + \" \"  + author + \" \" + bib  )  # Combine title & text\n",
    "            term_freq = defaultdict(int)\n",
    "            \n",
    "            # Count term frequency in the document\n",
    "            for term in processed_text:\n",
    "                term_freq[term] += 1\n",
    "            \n",
    "            # Add term and frequency to the inverted index\n",
    "            for term, freq in term_freq.items():\n",
    "                inverted_index[term].append((doc_id, freq))\n",
    "    return inverted_index\n",
    "\n",
    "inverted_index = build_inverted_index(documents)\n",
    "print(dict(list(inverted_index.items())[:5]))  # Display first 5 terms in the index\n"
   ]
  },
  {
   "cell_type": "code",
   "execution_count": 33,
   "metadata": {},
   "outputs": [],
   "source": [
    "import math\n",
    "\n",
    "def compute_tf(freq, doc_length, max_freq = 0, method=\"augmented\"):\n",
    "    if method == \"raw\":\n",
    "        return freq / doc_length\n",
    "    elif method == \"log\":\n",
    "        return 1 + math.log(freq) if freq > 0 else 0\n",
    "    elif method == \"augmented\":\n",
    "        return 0.5 + (0.5 * freq / max_freq)\n",
    "    return 0\n"
   ]
  },
  {
   "cell_type": "code",
   "execution_count": 34,
   "metadata": {},
   "outputs": [
    {
     "name": "stdout",
     "output_type": "stream",
     "text": [
      "[('1', 'experimental investigation of the aerodynamics of a\\nwing in a slipstream .', 'brenckman,m.', 'j. ae. scs. 25, 1958, 324.', 'experimental investigation of the aerodynamics of a\\nwing in a slipstream .\\n  an experimental study of a wing in a propeller slipstream was\\nmade in order to determine the spanwise distribution of the lift\\nincrease due to slipstream at different angles of attack of the wing\\nand at different free stream to slipstream velocity ratios .  the\\nresults were intended in part as an evaluation basis for different\\ntheoretical treatments of this problem .\\n  the comparative span loading curves, together with\\nsupporting evidence, showed that a substantial part of the lift increment\\nproduced by the slipstream was due to a /destalling/ or\\nboundary-layer-control effect .  the integrated remaining lift\\nincrement, after subtracting this destalling lift, was found to agree\\nwell with a potential flow theory .\\n  an empirical evaluation of the destalling effects was made for\\nthe specific configuration of the experiment .'), ('2', 'simple shear flow past a flat plate in an incompressible fluid of small\\nviscosity .', 'ting-yili', 'department of aeronautical engineering, rensselaer polytechnic\\ninstitute\\ntroy, n.y.', \"simple shear flow past a flat plate in an incompressible fluid of small\\nviscosity .\\nin the study of high-speed viscous flow past a two-dimensional body it\\nis usually necessary to consider a curved shock wave emitting from the\\nnose or leading edge of the body .  consequently, there exists an\\ninviscid rotational flow region between the shock wave and the boundary\\nlayer .  such a situation arises, for instance, in the study of the\\nhypersonic viscous flow past a flat plate .  the situation is somewhat\\ndifferent from prandtl's classical boundary-layer problem . in prandtl's\\noriginal problem the inviscid free stream outside the boundary layer is\\nirrotational while in a hypersonic boundary-layer problem the inviscid\\nfree stream must be considered as rotational .  the possible effects of\\nvorticity have been recently discussed by ferri and libby .  in the\\npresent paper, the simple shear flow past a flat plate in a fluid of small\\nviscosity is investigated .  it can be shown that this problem can again\\nbe treated by the boundary-layer approximation, the only novel feature\\nbeing that the free stream has a constant vorticity .  the discussion\\nhere is restricted to two-dimensional incompressible steady flow .\")]\n"
     ]
    }
   ],
   "source": [
    "print(documents[:2])"
   ]
  },
  {
   "cell_type": "markdown",
   "metadata": {},
   "source": [
    "## Pure VSM (not working)"
   ]
  },
  {
   "cell_type": "code",
   "execution_count": 35,
   "metadata": {},
   "outputs": [
    {
     "name": "stdout",
     "output_type": "stream",
     "text": [
      "M: 8971 N: 1398\n",
      "8971\n"
     ]
    }
   ],
   "source": [
    "import math\n",
    "from collections import defaultdict\n",
    "# print(inverted_index['experiment'])\n",
    "def compute_VSM(inverted_index, documents):\n",
    "    \"\"\"Compute the TF-IDF matrix from an inverted index.\"\"\"\n",
    "    N = len(documents)  # Total number of documents\n",
    "    M = len(inverted_index)  # Total number of terms\n",
    "    print(\"M:\", M, \"N:\", N)\n",
    "    freq = [0] * M\n",
    "    # print freq dimensions\n",
    "    print(len(freq))\n",
    "\n",
    "    # create a dictionnary of dimensions M, N\n",
    "    VSM = defaultdict(dict)\n",
    "    for doc_id, title, author, bib, text in documents:\n",
    "        \n",
    "        if not text:  # Skip documents without text\n",
    "            print(\"doc_id = \", doc_id), \" has no text.\"\n",
    "            continue\n",
    "        else:\n",
    "            if not author:\n",
    "                author = \"\"\n",
    "            if not bib:\n",
    "                bib = \"\"\n",
    "            processed_text = preprocess_text(title + \" \" + text + \" \"  + author + \" \" + bib)  # Combine title & text\n",
    "            VSM[doc_id] = []\n",
    "            freq = [0] * M\n",
    "            index = 0\n",
    "\n",
    "            for term in processed_text:\n",
    "                if term in inverted_index:\n",
    "                    freq [index] += 1 \n",
    "                else:\n",
    "                    print(\"Not in inverted index is term: \", term)\n",
    "                index += 1\n",
    "            if doc_id == 1:\n",
    "                print(\"frequ =\")\n",
    "                # print(freq[:10])\n",
    "            VSM[doc_id] = freq\n",
    "    return VSM\n",
    "\n",
    "VSM_matrix = compute_VSM(inverted_index, documents)\n"
   ]
  },
  {
   "cell_type": "code",
   "execution_count": 36,
   "metadata": {},
   "outputs": [
    {
     "name": "stdout",
     "output_type": "stream",
     "text": [
      "[1, 1, 1, 1, 1, 1, 1, 1, 1, 1, 1, 1, 1, 1, 1, 1, 1, 1, 1, 1, 1, 1, 1, 1, 1, 1, 1, 1, 1, 1, 1, 1, 0, 0, 0, 0, 0, 0, 0, 0, 0, 0, 0, 0, 0, 0, 0, 0, 0, 0, 0, 0, 0, 0, 0, 0, 0, 0, 0, 0, 0, 0, 0, 0, 0, 0, 0, 0, 0, 0, 0, 0, 0, 0, 0, 0, 0, 0, 0, 0, 0, 0, 0, 0, 0, 0, 0, 0, 0, 0, 0, 0, 0, 0, 0, 0, 0, 0, 0, 0, 0, 0, 0, 0, 0, 0, 0, 0, 0, 0, 0, 0, 0, 0, 0, 0, 0, 0, 0, 0, 0, 0, 0, 0, 0, 0, 0, 0, 0, 0, 0, 0, 0, 0, 0, 0, 0, 0, 0, 0, 0, 0, 0, 0, 0, 0, 0, 0, 0, 0, 0, 0, 0, 0, 0, 0, 0, 0, 0, 0, 0, 0, 0, 0, 0, 0, 0, 0, 0, 0, 0, 0, 0, 0, 0, 0, 0, 0, 0, 0, 0, 0, 0, 0, 0, 0, 0, 0, 0, 0, 0, 0, 0, 0, 0, 0, 0, 0, 0, 0, 0, 0, 0, 0, 0, 0, 0, 0, 0, 0, 0, 0, 0, 0, 0, 0, 0, 0, 0, 0, 0, 0, 0, 0, 0, 0, 0, 0, 0, 0, 0, 0, 0, 0, 0, 0, 0, 0, 0, 0, 0, 0, 0, 0, 0, 0, 0, 0, 0, 0, 0, 0, 0, 0, 0, 0, 0, 0, 0, 0, 0, 0, 0, 0, 0, 0, 0, 0, 0, 0, 0, 0, 0, 0, 0, 0, 0, 0, 0, 0, 0, 0, 0, 0, 0, 0, 0, 0, 0, 0, 0, 0, 0, 0, 0, 0, 0, 0, 0, 0, 0, 0, 0, 0, 0, 0, 0, 0, 0, 0, 0, 0, 0, 0, 0, 0, 0, 0, 0, 0, 0, 0, 0, 0, 0, 0, 0, 0, 0, 0, 0, 0, 0, 0, 0, 0, 0, 0, 0, 0, 0, 0, 0, 0, 0, 0, 0, 0, 0, 0, 0, 0, 0, 0, 0, 0, 0, 0, 0, 0, 0, 0, 0, 0, 0, 0, 0, 0, 0, 0, 0, 0, 0, 0, 0, 0, 0, 0, 0, 0, 0, 0, 0, 0, 0, 0, 0, 0, 0, 0, 0, 0, 0, 0, 0, 0, 0, 0, 0, 0, 0, 0, 0, 0, 0, 0, 0, 0, 0, 0, 0, 0, 0, 0, 0, 0, 0, 0, 0, 0, 0, 0, 0, 0, 0, 0, 0, 0, 0, 0, 0, 0, 0, 0, 0, 0, 0, 0, 0, 0, 0, 0, 0, 0, 0, 0, 0, 0, 0, 0, 0, 0, 0, 0, 0, 0, 0, 0, 0, 0, 0, 0, 0, 0, 0, 0, 0, 0, 0, 0, 0, 0, 0, 0, 0, 0, 0, 0, 0, 0, 0, 0, 0, 0, 0, 0, 0, 0, 0, 0, 0, 0, 0, 0, 0, 0, 0, 0, 0, 0, 0, 0, 0, 0, 0, 0, 0, 0, 0, 0, 0, 0, 0, 0, 0, 0, 0, 0, 0, 0, 0, 0, 0, 0, 0, 0, 0, 0, 0, 0, 0, 0, 0, 0, 0, 0, 0, 0, 0, 0, 0, 0, 0, 0, 0, 0, 0, 0, 0, 0, 0, 0, 0, 0, 0, 0, 0, 0, 0, 0, 0, 0, 0, 0, 0, 0, 0, 0, 0, 0, 0, 0, 0, 0, 0, 0, 0, 0, 0, 0, 0, 0, 0, 0, 0, 0, 0, 0, 0, 0, 0, 0, 0, 0, 0, 0, 0, 0, 0, 0, 0, 0, 0, 0, 0, 0, 0, 0, 0, 0, 0, 0, 0, 0, 0, 0, 0, 0, 0, 0, 0, 0, 0, 0, 0, 0, 0, 0, 0, 0, 0, 0, 0, 0, 0, 0, 0, 0, 0, 0, 0, 0, 0, 0, 0, 0, 0, 0, 0, 0, 0, 0, 0, 0, 0, 0, 0, 0, 0, 0, 0, 0, 0, 0, 0, 0, 0, 0, 0, 0, 0, 0, 0, 0, 0, 0, 0, 0, 0, 0, 0, 0, 0, 0, 0, 0, 0, 0, 0, 0, 0, 0, 0, 0, 0, 0, 0, 0, 0, 0, 0, 0, 0, 0, 0, 0, 0, 0, 0, 0, 0, 0, 0, 0, 0, 0, 0, 0, 0, 0, 0, 0, 0, 0, 0, 0, 0, 0, 0, 0, 0, 0, 0, 0, 0, 0, 0, 0, 0, 0, 0, 0, 0, 0, 0, 0, 0, 0, 0, 0, 0, 0, 0, 0, 0, 0, 0, 0, 0, 0, 0, 0, 0, 0, 0, 0, 0, 0, 0, 0, 0, 0, 0, 0, 0, 0, 0, 0, 0, 0, 0, 0, 0, 0, 0, 0, 0, 0, 0, 0, 0, 0, 0, 0, 0, 0, 0, 0, 0, 0, 0, 0, 0, 0, 0, 0, 0, 0, 0, 0, 0, 0, 0, 0, 0, 0, 0, 0, 0, 0, 0, 0, 0, 0, 0, 0, 0, 0, 0, 0, 0, 0, 0, 0, 0, 0, 0, 0, 0, 0, 0, 0, 0, 0, 0, 0, 0, 0, 0, 0, 0, 0, 0, 0, 0, 0, 0, 0, 0, 0, 0, 0, 0, 0, 0, 0, 0, 0, 0, 0, 0, 0, 0, 0, 0, 0, 0, 0, 0, 0, 0, 0, 0, 0, 0, 0, 0, 0, 0, 0, 0, 0, 0, 0, 0, 0, 0, 0, 0, 0, 0, 0, 0, 0, 0, 0, 0, 0, 0, 0, 0, 0, 0, 0, 0, 0, 0, 0, 0, 0, 0, 0, 0, 0, 0, 0, 0, 0, 0, 0, 0, 0, 0, 0, 0, 0, 0, 0, 0, 0, 0, 0, 0, 0, 0, 0, 0, 0, 0, 0, 0, 0, 0, 0, 0, 0, 0, 0, 0, 0, 0, 0, 0, 0, 0, 0, 0, 0, 0, 0, 0, 0, 0, 0, 0, 0, 0, 0, 0, 0, 0, 0, 0, 0, 0, 0, 0, 0, 0, 0, 0, 0, 0, 0, 0, 0, 0, 0, 0, 0, 0, 0, 0, 0, 0, 0, 0, 0, 0, 0, 0, 0, 0, 0, 0, 0, 0, 0, 0, 0, 0, 0, 0, 0, 0, 0, 0, 0, 0, 0, 0, 0, 0, 0, 0, 0, 0, 0, 0, 0, 0, 0, 0, 0, 0, 0, 0, 0, 0, 0, 0, 0, 0, 0, 0, 0, 0, 0, 0, 0, 0, 0, 0, 0, 0, 0, 0, 0, 0, 0, 0, 0, 0, 0, 0, 0, 0, 0, 0, 0, 0, 0, 0, 0, 0, 0, 0, 0, 0, 0, 0, 0, 0, 0, 0, 0, 0, 0, 0, 0, 0, 0, 0, 0, 0, 0, 0, 0, 0, 0, 0, 0, 0, 0, 0, 0, 0, 0, 0, 0, 0, 0, 0, 0, 0, 0, 0, 0, 0, 0, 0, 0, 0, 0, 0, 0, 0, 0, 0, 0, 0, 0, 0, 0, 0, 0, 0, 0, 0, 0, 0, 0, 0, 0, 0, 0, 0, 0, 0, 0, 0, 0, 0, 0, 0, 0, 0, 0, 0, 0, 0, 0, 0, 0, 0, 0, 0, 0, 0, 0, 0, 0, 0, 0, 0, 0, 0, 0, 0, 0, 0, 0, 0, 0, 0, 0, 0, 0, 0, 0, 0, 0, 0, 0, 0, 0, 0, 0, 0, 0, 0, 0, 0, 0, 0, 0, 0, 0, 0, 0, 0, 0, 0, 0, 0, 0, 0, 0, 0, 0, 0, 0, 0, 0, 0, 0, 0, 0, 0, 0, 0, 0, 0, 0, 0, 0, 0, 0, 0, 0, 0, 0, 0, 0, 0, 0, 0, 0, 0, 0, 0, 0, 0, 0, 0, 0, 0, 0, 0, 0, 0, 0, 0, 0, 0, 0, 0, 0, 0, 0, 0, 0, 0, 0, 0, 0, 0, 0, 0, 0, 0, 0, 0, 0, 0, 0, 0, 0, 0, 0, 0, 0, 0, 0, 0, 0, 0, 0, 0, 0, 0, 0, 0, 0, 0, 0, 0, 0, 0, 0, 0, 0, 0, 0, 0, 0, 0, 0, 0, 0, 0, 0, 0, 0, 0, 0, 0, 0, 0, 0, 0, 0, 0, 0, 0, 0, 0, 0, 0, 0, 0, 0, 0, 0, 0, 0, 0, 0, 0, 0, 0, 0, 0, 0, 0, 0, 0, 0, 0, 0, 0, 0, 0, 0, 0, 0, 0, 0, 0, 0, 0, 0, 0, 0, 0, 0, 0, 0, 0, 0, 0, 0, 0, 0, 0, 0, 0, 0, 0, 0, 0, 0, 0, 0, 0, 0, 0, 0, 0, 0, 0, 0, 0, 0, 0, 0, 0, 0, 0, 0, 0, 0, 0, 0, 0, 0, 0, 0, 0, 0, 0, 0, 0, 0, 0, 0, 0, 0, 0, 0, 0, 0, 0, 0, 0, 0, 0, 0, 0, 0, 0, 0, 0, 0, 0, 0, 0, 0, 0, 0, 0, 0, 0, 0, 0, 0, 0, 0, 0, 0, 0, 0, 0, 0, 0, 0, 0, 0, 0, 0, 0, 0, 0, 0, 0, 0, 0, 0, 0, 0, 0, 0, 0, 0, 0, 0, 0, 0, 0, 0, 0, 0, 0, 0, 0, 0, 0, 0, 0, 0, 0, 0, 0, 0, 0, 0, 0, 0, 0, 0, 0, 0, 0, 0, 0, 0, 0, 0, 0, 0, 0, 0, 0, 0, 0, 0, 0, 0, 0, 0, 0, 0, 0, 0, 0, 0, 0, 0, 0, 0, 0, 0, 0, 0, 0, 0, 0, 0, 0, 0, 0, 0, 0, 0, 0, 0, 0, 0, 0, 0, 0, 0, 0, 0, 0, 0, 0, 0, 0, 0, 0, 0, 0, 0, 0, 0, 0, 0, 0, 0, 0, 0, 0, 0, 0, 0, 0, 0, 0, 0, 0, 0, 0, 0, 0, 0, 0, 0, 0, 0, 0, 0, 0, 0, 0, 0, 0, 0, 0, 0, 0, 0, 0, 0, 0, 0, 0, 0, 0, 0, 0, 0, 0, 0, 0, 0, 0, 0, 0, 0, 0, 0, 0, 0, 0, 0, 0, 0, 0, 0, 0, 0, 0, 0, 0, 0, 0, 0, 0, 0, 0, 0, 0, 0, 0, 0, 0, 0, 0, 0, 0, 0, 0, 0, 0, 0, 0, 0, 0, 0, 0, 0, 0, 0, 0, 0, 0, 0, 0, 0, 0, 0, 0, 0, 0, 0, 0, 0, 0, 0, 0, 0, 0, 0, 0, 0, 0, 0, 0, 0, 0, 0, 0, 0, 0, 0, 0, 0, 0, 0, 0, 0, 0, 0, 0, 0, 0, 0, 0, 0, 0, 0, 0, 0, 0, 0, 0, 0, 0, 0, 0, 0, 0, 0, 0, 0, 0, 0, 0, 0, 0, 0, 0, 0, 0, 0, 0, 0, 0, 0, 0, 0, 0, 0, 0, 0, 0, 0, 0, 0, 0, 0, 0, 0, 0, 0, 0, 0, 0, 0, 0, 0, 0, 0, 0, 0, 0, 0, 0, 0, 0, 0, 0, 0, 0, 0, 0, 0, 0, 0, 0, 0, 0, 0, 0, 0, 0, 0, 0, 0, 0, 0, 0, 0, 0, 0, 0, 0, 0, 0, 0, 0, 0, 0, 0, 0, 0, 0, 0, 0, 0, 0, 0, 0, 0, 0, 0, 0, 0, 0, 0, 0, 0, 0, 0, 0, 0, 0, 0, 0, 0, 0, 0, 0, 0, 0, 0, 0, 0, 0, 0, 0, 0, 0, 0, 0, 0, 0, 0, 0, 0, 0, 0, 0, 0, 0, 0, 0, 0, 0, 0, 0, 0, 0, 0, 0, 0, 0, 0, 0, 0, 0, 0, 0, 0, 0, 0, 0, 0, 0, 0, 0, 0, 0, 0, 0, 0, 0, 0, 0, 0, 0, 0, 0, 0, 0, 0, 0, 0, 0, 0, 0, 0, 0, 0, 0, 0, 0, 0, 0, 0, 0, 0, 0, 0, 0, 0, 0, 0, 0, 0, 0, 0, 0, 0, 0, 0, 0, 0, 0, 0, 0, 0, 0, 0, 0, 0, 0, 0, 0, 0, 0, 0, 0, 0, 0, 0, 0, 0, 0, 0, 0, 0, 0, 0, 0, 0, 0, 0, 0, 0, 0, 0, 0, 0, 0, 0, 0, 0, 0, 0, 0, 0, 0, 0, 0, 0, 0, 0, 0, 0, 0, 0, 0, 0, 0, 0, 0, 0, 0, 0, 0, 0, 0, 0, 0, 0, 0, 0, 0, 0, 0, 0, 0, 0, 0, 0, 0, 0, 0, 0, 0, 0, 0, 0, 0, 0, 0, 0, 0, 0, 0, 0, 0, 0, 0, 0, 0, 0, 0, 0, 0, 0, 0, 0, 0, 0, 0, 0, 0, 0, 0, 0, 0, 0, 0, 0, 0, 0, 0, 0, 0, 0, 0, 0, 0, 0, 0, 0, 0, 0, 0, 0, 0, 0, 0, 0, 0, 0, 0, 0, 0, 0, 0, 0, 0, 0, 0, 0, 0, 0, 0, 0, 0, 0, 0, 0, 0, 0, 0, 0, 0, 0, 0, 0, 0, 0, 0, 0, 0, 0, 0, 0, 0, 0, 0, 0, 0, 0, 0, 0, 0, 0, 0, 0, 0, 0, 0, 0, 0, 0, 0, 0, 0, 0, 0, 0, 0, 0, 0, 0, 0, 0, 0, 0, 0, 0, 0, 0, 0, 0, 0, 0, 0, 0, 0, 0, 0, 0, 0, 0, 0, 0, 0, 0, 0, 0, 0, 0, 0, 0, 0, 0, 0, 0, 0, 0, 0, 0, 0, 0, 0, 0, 0, 0, 0, 0, 0, 0, 0, 0, 0, 0, 0, 0, 0, 0, 0, 0, 0, 0, 0, 0, 0, 0, 0, 0, 0, 0, 0, 0, 0, 0, 0, 0, 0, 0, 0, 0, 0, 0, 0, 0, 0, 0, 0, 0, 0, 0, 0, 0, 0, 0, 0, 0, 0, 0, 0, 0, 0, 0, 0, 0, 0, 0, 0, 0, 0, 0, 0, 0, 0, 0, 0, 0, 0, 0, 0, 0, 0, 0, 0, 0, 0, 0, 0, 0, 0, 0, 0, 0, 0, 0, 0, 0, 0, 0, 0, 0, 0, 0, 0, 0, 0, 0, 0, 0, 0, 0, 0, 0, 0, 0, 0, 0, 0, 0, 0, 0, 0, 0, 0, 0, 0, 0, 0, 0, 0, 0, 0, 0, 0, 0, 0, 0, 0, 0, 0, 0, 0, 0, 0, 0, 0, 0, 0, 0, 0, 0, 0, 0, 0, 0, 0, 0, 0, 0, 0, 0, 0, 0, 0, 0, 0, 0, 0, 0, 0, 0, 0, 0, 0, 0, 0, 0, 0, 0, 0, 0, 0, 0, 0, 0, 0, 0, 0, 0, 0, 0, 0, 0, 0, 0, 0, 0, 0, 0, 0, 0, 0, 0, 0, 0, 0, 0, 0, 0, 0, 0, 0, 0, 0, 0, 0, 0, 0, 0, 0, 0, 0, 0, 0, 0, 0, 0, 0, 0, 0, 0, 0, 0, 0, 0, 0, 0, 0, 0, 0, 0, 0, 0, 0, 0, 0, 0, 0, 0, 0, 0, 0, 0, 0, 0, 0, 0, 0, 0, 0, 0, 0, 0, 0, 0, 0, 0, 0, 0, 0, 0, 0, 0, 0, 0, 0, 0, 0, 0, 0, 0, 0, 0, 0, 0, 0, 0, 0, 0, 0, 0, 0, 0, 0, 0, 0, 0, 0, 0, 0, 0, 0, 0, 0, 0, 0, 0, 0, 0, 0, 0, 0, 0, 0, 0, 0, 0, 0, 0, 0, 0, 0, 0, 0, 0, 0, 0, 0, 0, 0, 0, 0, 0, 0, 0, 0, 0, 0, 0, 0, 0, 0, 0, 0, 0, 0, 0, 0, 0, 0, 0, 0, 0, 0, 0, 0, 0, 0, 0, 0, 0, 0, 0, 0, 0, 0, 0, 0, 0, 0, 0, 0, 0, 0, 0, 0, 0, 0, 0, 0, 0, 0, 0, 0, 0, 0, 0, 0, 0, 0, 0, 0, 0, 0, 0, 0, 0, 0, 0, 0, 0, 0, 0, 0, 0, 0, 0, 0, 0, 0, 0, 0, 0, 0, 0, 0, 0, 0, 0, 0, 0, 0, 0, 0, 0, 0, 0, 0, 0, 0, 0, 0, 0, 0, 0, 0, 0, 0, 0, 0, 0, 0, 0, 0, 0, 0, 0, 0, 0, 0, 0, 0, 0, 0, 0, 0, 0, 0, 0, 0, 0, 0, 0, 0, 0, 0, 0, 0, 0, 0, 0, 0, 0, 0, 0, 0, 0, 0, 0, 0, 0, 0, 0, 0, 0, 0, 0, 0, 0, 0, 0, 0, 0, 0, 0, 0, 0, 0, 0, 0, 0, 0, 0, 0, 0, 0, 0, 0, 0, 0, 0, 0, 0, 0, 0, 0, 0, 0, 0, 0, 0, 0, 0, 0, 0, 0, 0, 0, 0, 0, 0, 0, 0, 0, 0, 0, 0, 0, 0, 0, 0, 0, 0, 0, 0, 0, 0, 0, 0, 0, 0, 0, 0, 0, 0, 0, 0, 0, 0, 0, 0, 0, 0, 0, 0, 0, 0, 0, 0, 0, 0, 0, 0, 0, 0, 0, 0, 0, 0, 0, 0, 0, 0, 0, 0, 0, 0, 0, 0, 0, 0, 0, 0, 0, 0, 0, 0, 0, 0, 0, 0, 0, 0, 0, 0, 0, 0, 0, 0, 0, 0, 0, 0, 0, 0, 0, 0, 0, 0, 0, 0, 0, 0, 0, 0, 0, 0, 0, 0, 0, 0, 0, 0, 0, 0, 0, 0, 0, 0, 0, 0, 0, 0, 0, 0, 0, 0, 0, 0, 0, 0, 0, 0, 0, 0, 0, 0, 0, 0, 0, 0, 0, 0, 0, 0, 0, 0, 0, 0, 0, 0, 0, 0, 0, 0, 0, 0, 0, 0, 0, 0, 0, 0, 0, 0, 0, 0, 0, 0, 0, 0, 0, 0, 0, 0, 0, 0, 0, 0, 0, 0, 0, 0, 0, 0, 0, 0, 0, 0, 0, 0, 0, 0, 0, 0, 0, 0, 0, 0, 0, 0, 0, 0, 0, 0, 0, 0, 0, 0, 0, 0, 0, 0, 0, 0, 0, 0, 0, 0, 0, 0, 0, 0, 0, 0, 0, 0, 0, 0, 0, 0, 0, 0, 0, 0, 0, 0, 0, 0, 0, 0, 0, 0, 0, 0, 0, 0, 0, 0, 0, 0, 0, 0, 0, 0, 0, 0, 0, 0, 0, 0, 0, 0, 0, 0, 0, 0, 0, 0, 0, 0, 0, 0, 0, 0, 0, 0, 0, 0, 0, 0, 0, 0, 0, 0, 0, 0, 0, 0, 0, 0, 0, 0, 0, 0, 0, 0, 0, 0, 0, 0, 0, 0, 0, 0, 0, 0, 0, 0, 0, 0, 0, 0, 0, 0, 0, 0, 0, 0, 0, 0, 0, 0, 0, 0, 0, 0, 0, 0, 0, 0, 0, 0, 0, 0, 0, 0, 0, 0, 0, 0, 0, 0, 0, 0, 0, 0, 0, 0, 0, 0, 0, 0, 0, 0, 0, 0, 0, 0, 0, 0, 0, 0, 0, 0, 0, 0, 0, 0, 0, 0, 0, 0, 0, 0, 0, 0, 0, 0, 0, 0, 0, 0, 0, 0, 0, 0, 0, 0, 0, 0, 0, 0, 0, 0, 0, 0, 0, 0, 0, 0, 0, 0, 0, 0, 0, 0, 0, 0, 0, 0, 0, 0, 0, 0, 0, 0, 0, 0, 0, 0, 0, 0, 0, 0, 0, 0, 0, 0, 0, 0, 0, 0, 0, 0, 0, 0, 0, 0, 0, 0, 0, 0, 0, 0, 0, 0, 0, 0, 0, 0, 0, 0, 0, 0, 0, 0, 0, 0, 0, 0, 0, 0, 0, 0, 0, 0, 0, 0, 0, 0, 0, 0, 0, 0, 0, 0, 0, 0, 0, 0, 0, 0, 0, 0, 0, 0, 0, 0, 0, 0, 0, 0, 0, 0, 0, 0, 0, 0, 0, 0, 0, 0, 0, 0, 0, 0, 0, 0, 0, 0, 0, 0, 0, 0, 0, 0, 0, 0, 0, 0, 0, 0, 0, 0, 0, 0, 0, 0, 0, 0, 0, 0, 0, 0, 0, 0, 0, 0, 0, 0, 0, 0, 0, 0, 0, 0, 0, 0, 0, 0, 0, 0, 0, 0, 0, 0, 0, 0, 0, 0, 0, 0, 0, 0, 0, 0, 0, 0, 0, 0, 0, 0, 0, 0, 0, 0, 0, 0, 0, 0, 0, 0, 0, 0, 0, 0, 0, 0, 0, 0, 0, 0, 0, 0, 0, 0, 0, 0, 0, 0, 0, 0, 0, 0, 0, 0, 0, 0, 0, 0, 0, 0, 0, 0, 0, 0, 0, 0, 0, 0, 0, 0, 0, 0, 0, 0, 0, 0, 0, 0, 0, 0, 0, 0, 0, 0, 0, 0, 0, 0, 0, 0, 0, 0, 0, 0, 0, 0, 0, 0, 0, 0, 0, 0, 0, 0, 0, 0, 0, 0, 0, 0, 0, 0, 0, 0, 0, 0, 0, 0, 0, 0, 0, 0, 0, 0, 0, 0, 0, 0, 0, 0, 0, 0, 0, 0, 0, 0, 0, 0, 0, 0, 0, 0, 0, 0, 0, 0, 0, 0, 0, 0, 0, 0, 0, 0, 0, 0, 0, 0, 0, 0, 0, 0, 0, 0, 0, 0, 0, 0, 0, 0, 0, 0, 0, 0, 0, 0, 0, 0, 0, 0, 0, 0, 0, 0, 0, 0, 0, 0, 0, 0, 0, 0, 0, 0, 0, 0, 0, 0, 0, 0, 0, 0, 0, 0, 0, 0, 0, 0, 0, 0, 0, 0, 0, 0, 0, 0, 0, 0, 0, 0, 0, 0, 0, 0, 0, 0, 0, 0, 0, 0, 0, 0, 0, 0, 0, 0, 0, 0, 0, 0, 0, 0, 0, 0, 0, 0, 0, 0, 0, 0, 0, 0, 0, 0, 0, 0, 0, 0, 0, 0, 0, 0, 0, 0, 0, 0, 0, 0, 0, 0, 0, 0, 0, 0, 0, 0, 0, 0, 0, 0, 0, 0, 0, 0, 0, 0, 0, 0, 0, 0, 0, 0, 0, 0, 0, 0, 0, 0, 0, 0, 0, 0, 0, 0, 0, 0, 0, 0, 0, 0, 0, 0, 0, 0, 0, 0, 0, 0, 0, 0, 0, 0, 0, 0, 0, 0, 0, 0, 0, 0, 0, 0, 0, 0, 0, 0, 0, 0, 0, 0, 0, 0, 0, 0, 0, 0, 0, 0, 0, 0, 0, 0, 0, 0, 0, 0, 0, 0, 0, 0, 0, 0, 0, 0, 0, 0, 0, 0, 0, 0, 0, 0, 0, 0, 0, 0, 0, 0, 0, 0, 0, 0, 0, 0, 0, 0, 0, 0, 0, 0, 0, 0, 0, 0, 0, 0, 0, 0, 0, 0, 0, 0, 0, 0, 0, 0, 0, 0, 0, 0, 0, 0, 0, 0, 0, 0, 0, 0, 0, 0, 0, 0, 0, 0, 0, 0, 0, 0, 0, 0, 0, 0, 0, 0, 0, 0, 0, 0, 0, 0, 0, 0, 0, 0, 0, 0, 0, 0, 0, 0, 0, 0, 0, 0, 0, 0, 0, 0, 0, 0, 0, 0, 0, 0, 0, 0, 0, 0, 0, 0, 0, 0, 0, 0, 0, 0, 0, 0, 0, 0, 0, 0, 0, 0, 0, 0, 0, 0, 0, 0, 0, 0, 0, 0, 0, 0, 0, 0, 0, 0, 0, 0, 0, 0, 0, 0, 0, 0, 0, 0, 0, 0, 0, 0, 0, 0, 0, 0, 0, 0, 0, 0, 0, 0, 0, 0, 0, 0, 0, 0, 0, 0, 0, 0, 0, 0, 0, 0, 0, 0, 0, 0, 0, 0, 0, 0, 0, 0, 0, 0, 0, 0, 0, 0, 0, 0, 0, 0, 0, 0, 0, 0, 0, 0, 0, 0, 0, 0, 0, 0, 0, 0, 0, 0, 0, 0, 0, 0, 0, 0, 0, 0, 0, 0, 0, 0, 0, 0, 0, 0, 0, 0, 0, 0, 0, 0, 0, 0, 0, 0, 0, 0, 0, 0, 0, 0, 0, 0, 0, 0, 0, 0, 0, 0, 0, 0, 0, 0, 0, 0, 0, 0, 0, 0, 0, 0, 0, 0, 0, 0, 0, 0, 0, 0, 0, 0, 0, 0, 0, 0, 0, 0, 0, 0, 0, 0, 0, 0, 0, 0, 0, 0, 0, 0, 0, 0, 0, 0, 0, 0, 0, 0, 0, 0, 0, 0, 0, 0, 0, 0, 0, 0, 0, 0, 0, 0, 0, 0, 0, 0, 0, 0, 0, 0, 0, 0, 0, 0, 0, 0, 0, 0, 0, 0, 0, 0, 0, 0, 0, 0, 0, 0, 0, 0, 0, 0, 0, 0, 0, 0, 0, 0, 0, 0, 0, 0, 0, 0, 0, 0, 0, 0, 0, 0, 0, 0, 0, 0, 0, 0, 0, 0, 0, 0, 0, 0, 0, 0, 0, 0, 0, 0, 0, 0, 0, 0, 0, 0, 0, 0, 0, 0, 0, 0, 0, 0, 0, 0, 0, 0, 0, 0, 0, 0, 0, 0, 0, 0, 0, 0, 0, 0, 0, 0, 0, 0, 0, 0, 0, 0, 0, 0, 0, 0, 0, 0, 0, 0, 0, 0, 0, 0, 0, 0, 0, 0, 0, 0, 0, 0, 0, 0, 0, 0, 0, 0, 0, 0, 0, 0, 0, 0, 0, 0, 0, 0, 0, 0, 0, 0, 0, 0, 0, 0, 0, 0, 0, 0, 0, 0, 0, 0, 0, 0, 0, 0, 0, 0, 0, 0, 0, 0, 0, 0, 0, 0, 0, 0, 0, 0, 0, 0, 0, 0, 0, 0, 0, 0, 0, 0, 0, 0, 0, 0, 0, 0, 0, 0, 0, 0, 0, 0, 0, 0, 0, 0, 0, 0, 0, 0, 0, 0, 0, 0, 0, 0, 0, 0, 0, 0, 0, 0, 0, 0, 0, 0, 0, 0, 0, 0, 0, 0, 0, 0, 0, 0, 0, 0, 0, 0, 0, 0, 0, 0, 0, 0, 0, 0, 0, 0, 0, 0, 0, 0, 0, 0, 0, 0, 0, 0, 0, 0, 0, 0, 0, 0, 0, 0, 0, 0, 0, 0, 0, 0, 0, 0, 0, 0, 0, 0, 0, 0, 0, 0, 0, 0, 0, 0, 0, 0, 0, 0, 0, 0, 0, 0, 0, 0, 0, 0, 0, 0, 0, 0, 0, 0, 0, 0, 0, 0, 0, 0, 0, 0, 0, 0, 0, 0, 0, 0, 0, 0, 0, 0, 0, 0, 0, 0, 0, 0, 0, 0, 0, 0, 0, 0, 0, 0, 0, 0, 0, 0, 0, 0, 0, 0, 0, 0, 0, 0, 0, 0, 0, 0, 0, 0, 0, 0, 0, 0, 0, 0, 0, 0, 0, 0, 0, 0, 0, 0, 0, 0, 0, 0, 0, 0, 0, 0, 0, 0, 0, 0, 0, 0, 0, 0, 0, 0, 0, 0, 0, 0, 0, 0, 0, 0, 0, 0, 0, 0, 0, 0, 0, 0, 0, 0, 0, 0, 0, 0, 0, 0, 0, 0, 0, 0, 0, 0, 0, 0, 0, 0, 0, 0, 0, 0, 0, 0, 0, 0, 0, 0, 0, 0, 0, 0, 0, 0, 0, 0, 0, 0, 0, 0, 0, 0, 0, 0, 0, 0, 0, 0, 0, 0, 0, 0, 0, 0, 0, 0, 0, 0, 0, 0, 0, 0, 0, 0, 0, 0, 0, 0, 0, 0, 0, 0, 0, 0, 0, 0, 0, 0, 0, 0, 0, 0, 0, 0, 0, 0, 0, 0, 0, 0, 0, 0, 0, 0, 0, 0, 0, 0, 0, 0, 0, 0, 0, 0, 0, 0, 0, 0, 0, 0, 0, 0, 0, 0, 0, 0, 0, 0, 0, 0, 0, 0, 0, 0, 0, 0, 0, 0, 0, 0, 0, 0, 0, 0, 0, 0, 0, 0, 0, 0, 0, 0, 0, 0, 0, 0, 0, 0, 0, 0, 0, 0, 0, 0, 0, 0, 0, 0, 0, 0, 0, 0, 0, 0, 0, 0, 0, 0, 0, 0, 0, 0, 0, 0, 0, 0, 0, 0, 0, 0, 0, 0, 0, 0, 0, 0, 0, 0, 0, 0, 0, 0, 0, 0, 0, 0, 0, 0, 0, 0, 0, 0, 0, 0, 0, 0, 0, 0, 0, 0, 0, 0, 0, 0, 0, 0, 0, 0, 0, 0, 0, 0, 0, 0, 0, 0, 0, 0, 0, 0, 0, 0, 0, 0, 0, 0, 0, 0, 0, 0, 0, 0, 0, 0, 0, 0, 0, 0, 0, 0, 0, 0, 0, 0, 0, 0, 0, 0, 0, 0, 0, 0, 0, 0, 0, 0, 0, 0, 0, 0, 0, 0, 0, 0, 0, 0, 0, 0, 0, 0, 0, 0, 0, 0, 0, 0, 0, 0, 0, 0, 0, 0, 0, 0, 0, 0, 0, 0, 0, 0, 0, 0, 0, 0, 0, 0, 0, 0, 0, 0, 0, 0, 0, 0, 0, 0, 0, 0, 0, 0, 0, 0, 0, 0, 0, 0, 0, 0, 0, 0, 0, 0, 0, 0, 0, 0, 0, 0, 0, 0, 0, 0, 0, 0, 0, 0, 0, 0, 0, 0, 0, 0, 0, 0, 0, 0, 0, 0, 0, 0, 0, 0, 0, 0, 0, 0, 0, 0, 0, 0, 0, 0, 0, 0, 0, 0, 0, 0, 0, 0, 0, 0, 0, 0, 0, 0, 0, 0, 0, 0, 0, 0, 0, 0, 0, 0, 0, 0, 0, 0, 0, 0, 0, 0, 0, 0, 0, 0, 0, 0, 0, 0, 0, 0, 0, 0, 0, 0, 0, 0, 0, 0, 0, 0, 0, 0, 0, 0, 0, 0, 0, 0, 0, 0, 0, 0, 0, 0, 0, 0, 0, 0, 0, 0, 0, 0, 0, 0, 0, 0, 0, 0, 0, 0, 0, 0, 0, 0, 0, 0, 0, 0, 0, 0, 0, 0, 0, 0, 0, 0, 0, 0, 0, 0, 0, 0, 0, 0, 0, 0, 0, 0, 0, 0, 0, 0, 0, 0, 0, 0, 0, 0, 0, 0, 0, 0, 0, 0, 0, 0, 0, 0, 0, 0, 0, 0, 0, 0, 0, 0, 0, 0, 0, 0, 0, 0, 0, 0, 0, 0, 0, 0, 0, 0, 0, 0, 0, 0, 0, 0, 0, 0, 0, 0, 0, 0, 0, 0, 0, 0, 0, 0, 0, 0, 0, 0, 0, 0, 0, 0, 0, 0, 0, 0, 0, 0, 0, 0, 0, 0, 0, 0, 0, 0, 0, 0, 0, 0, 0, 0, 0, 0, 0, 0, 0, 0, 0, 0, 0, 0, 0, 0, 0, 0, 0, 0, 0, 0, 0, 0, 0, 0, 0, 0, 0, 0, 0, 0, 0, 0, 0, 0, 0, 0, 0, 0, 0, 0, 0, 0, 0, 0, 0, 0, 0, 0, 0, 0, 0, 0, 0, 0, 0, 0, 0, 0, 0, 0, 0, 0, 0, 0, 0, 0, 0, 0, 0, 0, 0, 0, 0, 0, 0, 0, 0, 0, 0, 0, 0, 0, 0, 0, 0, 0, 0, 0, 0, 0, 0, 0, 0, 0, 0, 0, 0, 0, 0, 0, 0, 0, 0, 0, 0, 0, 0, 0, 0, 0, 0, 0, 0, 0, 0, 0, 0, 0, 0, 0, 0, 0, 0, 0, 0, 0, 0, 0, 0, 0, 0, 0, 0, 0, 0, 0, 0, 0, 0, 0, 0, 0, 0, 0, 0, 0, 0, 0, 0, 0, 0, 0, 0, 0, 0, 0, 0, 0, 0, 0, 0, 0, 0, 0, 0, 0, 0, 0, 0, 0, 0, 0, 0, 0, 0, 0, 0, 0, 0, 0, 0, 0, 0, 0, 0, 0, 0, 0, 0, 0, 0, 0, 0, 0, 0, 0, 0, 0, 0, 0, 0, 0, 0, 0, 0, 0, 0, 0, 0, 0, 0, 0, 0, 0, 0, 0, 0, 0, 0, 0, 0, 0, 0, 0, 0, 0, 0, 0, 0, 0, 0, 0, 0, 0, 0, 0, 0, 0, 0, 0, 0, 0, 0, 0, 0, 0, 0, 0, 0, 0, 0, 0, 0, 0, 0, 0, 0, 0, 0, 0, 0, 0, 0, 0, 0, 0, 0, 0, 0, 0, 0, 0, 0, 0, 0, 0, 0, 0, 0, 0, 0, 0, 0, 0, 0, 0, 0, 0, 0, 0, 0, 0, 0, 0, 0, 0, 0, 0, 0, 0, 0, 0, 0, 0, 0, 0, 0, 0, 0, 0, 0, 0, 0, 0, 0, 0, 0, 0, 0, 0, 0, 0, 0, 0, 0, 0, 0, 0, 0, 0, 0, 0, 0, 0, 0, 0, 0, 0, 0, 0, 0, 0, 0, 0, 0, 0, 0, 0, 0, 0, 0, 0, 0, 0, 0, 0, 0, 0, 0, 0, 0, 0, 0, 0, 0, 0, 0, 0, 0, 0, 0, 0, 0, 0, 0, 0, 0, 0, 0, 0, 0, 0, 0, 0, 0, 0, 0, 0, 0, 0, 0, 0, 0, 0, 0, 0, 0, 0, 0, 0, 0, 0, 0, 0, 0, 0, 0, 0, 0, 0, 0, 0, 0, 0, 0, 0, 0, 0, 0, 0, 0, 0, 0, 0, 0, 0, 0, 0, 0, 0, 0, 0, 0, 0, 0, 0, 0, 0, 0, 0, 0, 0, 0, 0, 0, 0, 0, 0, 0, 0, 0, 0, 0, 0, 0, 0, 0, 0, 0, 0, 0, 0, 0, 0, 0, 0, 0, 0, 0, 0, 0, 0, 0, 0, 0, 0, 0, 0, 0, 0, 0, 0, 0, 0, 0, 0, 0, 0, 0, 0, 0, 0, 0, 0, 0, 0, 0, 0, 0, 0, 0, 0, 0, 0, 0, 0, 0, 0, 0, 0, 0, 0, 0, 0, 0, 0, 0, 0, 0, 0, 0, 0, 0, 0, 0, 0, 0, 0, 0, 0, 0, 0, 0, 0, 0, 0, 0, 0, 0, 0, 0, 0, 0, 0, 0, 0, 0, 0, 0, 0, 0, 0, 0, 0, 0, 0, 0, 0, 0, 0, 0, 0, 0, 0, 0, 0, 0, 0, 0, 0, 0, 0, 0, 0, 0, 0, 0, 0, 0, 0, 0, 0, 0, 0, 0, 0, 0, 0, 0, 0, 0, 0, 0, 0, 0, 0, 0, 0, 0, 0, 0, 0, 0, 0, 0, 0, 0, 0, 0, 0, 0, 0, 0, 0, 0, 0, 0, 0, 0, 0, 0, 0, 0, 0, 0, 0, 0, 0, 0, 0, 0, 0, 0, 0, 0, 0, 0, 0, 0, 0, 0, 0, 0, 0, 0, 0, 0, 0, 0, 0, 0, 0, 0, 0, 0, 0, 0, 0, 0, 0, 0, 0, 0, 0, 0, 0, 0, 0, 0, 0, 0, 0, 0, 0, 0, 0, 0, 0, 0, 0, 0, 0, 0, 0, 0, 0, 0, 0, 0, 0, 0, 0, 0, 0, 0, 0, 0, 0, 0, 0, 0, 0, 0, 0, 0, 0, 0, 0, 0, 0, 0, 0, 0, 0, 0, 0, 0, 0, 0, 0, 0, 0, 0, 0, 0, 0, 0, 0, 0, 0, 0, 0, 0, 0, 0, 0, 0, 0, 0, 0, 0, 0, 0, 0, 0, 0, 0, 0, 0, 0, 0, 0, 0, 0, 0, 0, 0, 0, 0, 0, 0, 0, 0, 0, 0, 0, 0, 0, 0, 0, 0, 0, 0, 0, 0, 0, 0, 0, 0, 0, 0, 0, 0, 0, 0, 0, 0, 0, 0, 0, 0, 0, 0, 0, 0, 0, 0, 0, 0, 0, 0, 0, 0, 0, 0, 0, 0, 0, 0, 0, 0, 0, 0, 0, 0, 0, 0, 0, 0, 0, 0, 0, 0, 0, 0, 0, 0, 0, 0, 0, 0, 0, 0, 0, 0, 0, 0, 0, 0, 0, 0, 0, 0, 0, 0, 0, 0, 0, 0, 0, 0, 0, 0, 0, 0, 0, 0, 0, 0, 0, 0, 0, 0, 0, 0, 0, 0, 0, 0, 0, 0, 0, 0, 0, 0, 0, 0, 0, 0, 0, 0, 0, 0, 0, 0, 0, 0, 0, 0, 0, 0, 0, 0, 0, 0, 0, 0, 0, 0, 0, 0, 0, 0, 0, 0, 0, 0, 0, 0, 0, 0, 0, 0, 0, 0, 0, 0, 0, 0, 0, 0, 0, 0, 0, 0, 0, 0, 0, 0, 0, 0, 0, 0, 0, 0, 0, 0, 0, 0, 0, 0, 0, 0, 0, 0, 0, 0, 0, 0, 0, 0, 0, 0, 0, 0, 0, 0, 0, 0, 0, 0, 0, 0, 0, 0, 0, 0, 0, 0, 0, 0, 0, 0, 0, 0, 0, 0, 0, 0, 0, 0, 0, 0, 0, 0, 0, 0, 0, 0, 0, 0, 0, 0, 0, 0, 0, 0, 0, 0, 0, 0, 0, 0, 0, 0, 0, 0, 0, 0, 0, 0, 0, 0, 0, 0, 0, 0, 0, 0, 0, 0, 0, 0, 0, 0, 0, 0, 0, 0, 0, 0, 0, 0, 0, 0, 0, 0, 0, 0, 0, 0, 0, 0, 0, 0, 0, 0, 0, 0, 0, 0, 0, 0, 0, 0, 0, 0, 0, 0, 0, 0, 0, 0, 0, 0, 0, 0, 0, 0, 0, 0, 0, 0, 0, 0, 0, 0, 0, 0, 0, 0, 0, 0, 0, 0, 0, 0, 0, 0, 0, 0, 0, 0, 0, 0, 0, 0, 0, 0, 0, 0, 0, 0, 0, 0, 0, 0, 0, 0, 0, 0, 0, 0, 0, 0, 0, 0, 0, 0, 0, 0, 0, 0, 0, 0, 0, 0, 0, 0, 0, 0, 0, 0, 0, 0, 0, 0, 0, 0, 0, 0, 0, 0, 0, 0, 0, 0, 0, 0, 0, 0, 0, 0, 0, 0, 0, 0, 0, 0, 0, 0, 0, 0, 0, 0, 0, 0, 0, 0, 0, 0, 0, 0, 0, 0, 0, 0, 0, 0, 0, 0, 0, 0, 0, 0, 0, 0, 0, 0, 0, 0, 0, 0, 0, 0, 0, 0, 0, 0, 0, 0, 0, 0, 0, 0, 0, 0, 0, 0, 0, 0, 0, 0, 0, 0, 0, 0, 0, 0, 0, 0, 0, 0, 0, 0, 0, 0, 0, 0, 0, 0, 0, 0, 0, 0, 0, 0, 0, 0, 0, 0, 0, 0, 0, 0, 0, 0, 0, 0, 0, 0, 0, 0, 0, 0, 0, 0, 0, 0, 0, 0, 0, 0, 0, 0, 0, 0, 0, 0, 0, 0, 0, 0, 0, 0, 0, 0, 0, 0, 0, 0, 0, 0, 0, 0, 0, 0, 0, 0, 0, 0, 0, 0, 0, 0, 0, 0, 0, 0, 0, 0, 0, 0, 0, 0, 0, 0, 0, 0, 0, 0, 0, 0, 0, 0, 0, 0, 0, 0, 0, 0, 0, 0, 0, 0, 0, 0, 0, 0, 0, 0, 0, 0, 0, 0, 0, 0, 0, 0, 0, 0, 0, 0, 0, 0, 0, 0, 0, 0, 0, 0, 0, 0, 0, 0, 0, 0, 0, 0, 0, 0, 0, 0, 0, 0, 0, 0, 0, 0, 0, 0, 0, 0, 0, 0, 0, 0, 0, 0, 0, 0, 0, 0, 0, 0, 0, 0, 0, 0, 0, 0, 0, 0, 0, 0, 0, 0, 0, 0, 0, 0, 0, 0, 0, 0, 0, 0, 0, 0, 0, 0, 0, 0, 0, 0, 0, 0, 0, 0, 0, 0, 0, 0, 0, 0, 0, 0, 0, 0, 0, 0, 0, 0, 0, 0, 0, 0, 0, 0, 0, 0, 0, 0, 0, 0, 0, 0, 0, 0, 0, 0, 0, 0, 0, 0, 0, 0, 0, 0, 0, 0, 0, 0, 0, 0, 0, 0, 0, 0, 0, 0, 0, 0, 0, 0, 0, 0, 0, 0, 0, 0, 0, 0, 0, 0, 0, 0, 0, 0, 0, 0, 0, 0, 0, 0, 0, 0, 0, 0, 0, 0, 0, 0, 0, 0, 0, 0, 0, 0, 0, 0, 0, 0, 0, 0, 0, 0, 0, 0, 0, 0, 0, 0, 0, 0, 0, 0, 0, 0, 0, 0, 0, 0, 0, 0, 0, 0, 0, 0, 0, 0, 0, 0, 0, 0, 0, 0, 0, 0, 0, 0, 0, 0, 0, 0, 0, 0, 0, 0, 0, 0, 0, 0, 0, 0, 0, 0, 0, 0, 0, 0, 0, 0, 0, 0, 0, 0, 0, 0, 0, 0, 0, 0, 0, 0, 0, 0, 0, 0, 0, 0, 0, 0, 0, 0, 0, 0, 0, 0, 0, 0, 0, 0, 0, 0, 0, 0, 0, 0, 0, 0, 0, 0, 0, 0, 0, 0, 0, 0, 0, 0, 0, 0, 0, 0, 0, 0, 0, 0, 0, 0, 0, 0, 0, 0, 0, 0, 0, 0, 0, 0, 0, 0, 0, 0, 0, 0, 0, 0, 0, 0, 0, 0, 0, 0, 0, 0, 0, 0, 0, 0, 0, 0, 0, 0, 0, 0, 0, 0, 0, 0, 0, 0, 0, 0, 0, 0, 0, 0, 0, 0, 0, 0, 0, 0, 0, 0, 0, 0, 0, 0, 0, 0, 0, 0, 0, 0, 0, 0, 0, 0, 0, 0, 0, 0, 0, 0, 0, 0, 0, 0, 0, 0, 0, 0, 0, 0, 0, 0, 0, 0, 0, 0, 0, 0, 0, 0, 0, 0, 0, 0, 0, 0, 0, 0, 0, 0, 0, 0, 0, 0, 0, 0, 0, 0, 0, 0, 0, 0, 0, 0, 0, 0, 0, 0, 0, 0, 0, 0, 0, 0, 0, 0, 0, 0, 0, 0, 0, 0, 0, 0, 0, 0, 0, 0, 0, 0, 0, 0, 0, 0, 0, 0, 0, 0, 0, 0, 0, 0, 0, 0, 0, 0, 0, 0, 0, 0, 0, 0, 0, 0, 0, 0, 0, 0, 0, 0, 0, 0, 0, 0, 0, 0, 0, 0, 0, 0, 0, 0, 0, 0, 0, 0, 0, 0, 0, 0, 0, 0, 0, 0, 0, 0, 0, 0, 0, 0, 0, 0, 0, 0, 0, 0, 0, 0, 0, 0, 0, 0, 0, 0, 0, 0, 0, 0, 0, 0, 0, 0, 0, 0, 0, 0, 0, 0, 0, 0, 0, 0, 0, 0, 0, 0, 0, 0, 0, 0, 0, 0, 0, 0, 0, 0, 0, 0, 0, 0, 0, 0, 0, 0, 0, 0, 0, 0, 0, 0, 0, 0, 0, 0, 0, 0, 0, 0, 0, 0, 0, 0, 0, 0, 0, 0, 0, 0, 0, 0, 0, 0, 0, 0, 0, 0, 0, 0, 0, 0, 0, 0, 0, 0, 0, 0, 0, 0, 0, 0, 0, 0, 0, 0, 0, 0, 0, 0, 0, 0, 0, 0, 0, 0, 0, 0, 0, 0, 0, 0, 0, 0, 0, 0, 0, 0, 0, 0, 0, 0, 0, 0, 0, 0, 0, 0, 0, 0, 0, 0, 0, 0, 0, 0, 0, 0, 0, 0, 0, 0, 0, 0, 0, 0, 0, 0, 0, 0, 0, 0, 0, 0, 0, 0, 0, 0, 0, 0, 0, 0, 0, 0, 0, 0, 0, 0, 0, 0, 0, 0, 0, 0, 0, 0, 0, 0, 0, 0, 0, 0, 0, 0, 0, 0, 0, 0, 0, 0, 0, 0, 0, 0, 0, 0, 0, 0, 0, 0, 0, 0, 0, 0, 0, 0, 0, 0, 0, 0, 0, 0, 0, 0, 0, 0, 0, 0, 0, 0, 0, 0, 0, 0, 0, 0, 0, 0, 0, 0, 0, 0, 0, 0, 0, 0, 0, 0, 0, 0, 0, 0, 0, 0, 0, 0, 0, 0, 0, 0, 0, 0, 0, 0, 0, 0, 0, 0, 0, 0, 0, 0, 0, 0, 0, 0, 0, 0, 0, 0, 0, 0, 0, 0, 0, 0, 0, 0, 0, 0, 0, 0, 0, 0, 0, 0, 0, 0, 0, 0, 0, 0, 0, 0, 0, 0, 0, 0, 0, 0, 0, 0, 0, 0, 0, 0, 0, 0, 0, 0, 0, 0, 0, 0, 0, 0, 0, 0, 0, 0, 0, 0, 0, 0, 0, 0, 0, 0, 0, 0, 0, 0, 0, 0, 0, 0, 0, 0, 0, 0, 0, 0, 0, 0, 0, 0, 0, 0, 0, 0, 0, 0, 0, 0, 0, 0, 0, 0, 0, 0, 0, 0, 0, 0, 0, 0, 0, 0, 0, 0, 0, 0, 0, 0, 0, 0, 0, 0, 0, 0, 0, 0, 0, 0, 0, 0, 0, 0, 0, 0, 0, 0, 0, 0, 0, 0, 0, 0, 0, 0, 0, 0, 0, 0, 0, 0, 0, 0, 0, 0, 0, 0, 0, 0, 0, 0, 0, 0, 0, 0, 0, 0, 0, 0, 0, 0, 0, 0, 0, 0, 0, 0, 0, 0, 0, 0, 0, 0, 0, 0, 0, 0, 0, 0, 0, 0, 0, 0, 0, 0, 0, 0, 0, 0, 0, 0, 0, 0, 0, 0, 0, 0, 0, 0, 0, 0, 0, 0, 0, 0, 0, 0, 0, 0, 0, 0, 0, 0, 0, 0, 0, 0, 0, 0, 0, 0, 0, 0, 0, 0, 0, 0, 0, 0, 0, 0, 0, 0, 0, 0, 0, 0, 0, 0, 0, 0, 0, 0, 0, 0, 0, 0, 0, 0, 0, 0, 0, 0, 0, 0, 0, 0, 0, 0, 0, 0, 0, 0, 0, 0, 0, 0, 0, 0, 0, 0, 0, 0, 0, 0, 0, 0, 0, 0, 0, 0, 0, 0, 0, 0, 0, 0, 0, 0, 0, 0, 0, 0, 0, 0, 0, 0, 0, 0, 0, 0, 0, 0, 0, 0, 0, 0, 0, 0, 0, 0, 0, 0, 0, 0, 0, 0, 0, 0, 0, 0, 0, 0, 0, 0, 0, 0, 0, 0, 0, 0, 0, 0, 0, 0, 0, 0, 0, 0, 0, 0, 0, 0, 0, 0, 0, 0, 0, 0, 0, 0, 0, 0, 0, 0, 0, 0, 0, 0, 0, 0, 0, 0, 0, 0, 0, 0, 0, 0, 0, 0, 0, 0, 0, 0, 0, 0, 0, 0, 0, 0, 0, 0, 0, 0, 0, 0, 0, 0, 0, 0, 0, 0, 0, 0, 0, 0, 0, 0, 0, 0, 0, 0, 0, 0, 0, 0, 0, 0, 0, 0, 0, 0, 0, 0, 0, 0, 0, 0, 0, 0, 0, 0, 0, 0, 0, 0, 0, 0, 0, 0, 0, 0, 0, 0, 0, 0, 0, 0, 0, 0, 0, 0, 0, 0, 0, 0, 0, 0, 0, 0, 0, 0, 0, 0, 0, 0, 0, 0, 0, 0, 0, 0, 0, 0, 0, 0, 0, 0, 0, 0, 0, 0, 0, 0, 0, 0, 0, 0, 0, 0, 0, 0, 0, 0, 0, 0, 0, 0, 0, 0, 0, 0, 0, 0, 0, 0, 0, 0, 0, 0, 0, 0, 0, 0, 0, 0, 0, 0, 0, 0, 0, 0, 0, 0, 0, 0, 0, 0, 0, 0, 0, 0, 0, 0, 0, 0, 0, 0, 0, 0, 0, 0, 0, 0, 0, 0, 0, 0, 0, 0, 0, 0, 0, 0, 0, 0, 0, 0, 0, 0, 0, 0, 0, 0, 0, 0, 0, 0, 0, 0, 0, 0, 0, 0, 0, 0, 0, 0, 0, 0, 0, 0, 0, 0, 0, 0, 0, 0, 0, 0, 0, 0, 0, 0, 0, 0, 0, 0, 0, 0, 0, 0, 0, 0, 0, 0, 0, 0, 0, 0, 0, 0, 0, 0, 0, 0, 0, 0, 0, 0, 0, 0, 0, 0, 0, 0, 0, 0, 0, 0, 0, 0, 0, 0, 0, 0, 0, 0, 0, 0, 0, 0, 0, 0, 0, 0, 0, 0, 0, 0, 0, 0, 0, 0, 0, 0, 0, 0, 0, 0, 0, 0, 0, 0, 0, 0, 0, 0, 0, 0, 0, 0, 0, 0, 0, 0, 0, 0, 0, 0, 0, 0, 0, 0, 0, 0, 0, 0, 0, 0, 0, 0, 0, 0, 0, 0, 0, 0, 0, 0, 0, 0, 0, 0, 0, 0, 0, 0, 0, 0, 0, 0, 0, 0, 0, 0, 0, 0, 0, 0, 0, 0, 0, 0, 0, 0, 0, 0, 0, 0, 0, 0, 0, 0, 0, 0, 0, 0, 0, 0, 0, 0, 0, 0, 0, 0, 0, 0, 0, 0, 0, 0, 0, 0, 0, 0, 0, 0, 0, 0, 0, 0, 0, 0, 0, 0, 0, 0, 0, 0, 0, 0, 0, 0, 0, 0, 0, 0, 0, 0, 0, 0, 0, 0, 0, 0, 0, 0, 0, 0, 0, 0, 0, 0, 0, 0, 0, 0, 0, 0, 0, 0, 0, 0, 0, 0, 0, 0, 0, 0, 0, 0, 0, 0, 0, 0, 0, 0, 0, 0, 0, 0, 0, 0, 0, 0, 0, 0, 0, 0, 0, 0, 0, 0, 0, 0, 0, 0, 0, 0, 0, 0, 0, 0, 0, 0, 0, 0, 0, 0, 0, 0, 0, 0, 0, 0, 0, 0, 0, 0, 0, 0, 0, 0, 0, 0, 0, 0, 0, 0, 0, 0, 0, 0, 0, 0, 0, 0, 0, 0, 0, 0, 0, 0, 0, 0, 0, 0, 0, 0, 0, 0, 0, 0, 0, 0, 0, 0, 0, 0, 0, 0, 0, 0, 0, 0, 0, 0, 0, 0, 0, 0, 0, 0, 0, 0, 0, 0, 0, 0, 0, 0, 0, 0, 0, 0, 0, 0, 0, 0, 0, 0, 0, 0, 0, 0, 0, 0, 0, 0, 0, 0, 0, 0, 0, 0, 0, 0, 0, 0, 0, 0, 0, 0, 0, 0, 0, 0, 0, 0, 0, 0, 0, 0, 0, 0, 0, 0, 0, 0, 0, 0, 0, 0, 0, 0, 0, 0, 0, 0, 0, 0, 0, 0, 0, 0, 0, 0, 0, 0, 0, 0, 0, 0, 0, 0, 0, 0, 0, 0, 0, 0, 0, 0, 0, 0, 0, 0, 0, 0, 0, 0, 0, 0, 0, 0, 0, 0, 0, 0, 0, 0, 0, 0, 0, 0, 0, 0, 0, 0, 0, 0, 0, 0, 0, 0, 0, 0, 0, 0, 0, 0, 0, 0, 0, 0, 0, 0, 0, 0, 0, 0, 0, 0, 0, 0, 0, 0, 0, 0, 0, 0, 0, 0, 0, 0, 0, 0, 0, 0, 0, 0, 0, 0, 0, 0, 0, 0, 0, 0, 0, 0, 0, 0, 0, 0, 0, 0, 0, 0, 0, 0, 0, 0, 0, 0, 0, 0, 0, 0, 0, 0, 0, 0, 0, 0, 0, 0, 0, 0, 0, 0, 0, 0, 0, 0, 0, 0, 0, 0, 0, 0, 0, 0, 0, 0, 0, 0, 0, 0, 0, 0, 0, 0, 0, 0, 0, 0, 0, 0, 0, 0, 0, 0, 0, 0, 0, 0, 0, 0, 0, 0, 0, 0, 0, 0, 0, 0, 0, 0, 0, 0, 0, 0, 0, 0, 0, 0, 0, 0, 0, 0, 0, 0, 0, 0, 0, 0, 0, 0, 0, 0, 0, 0, 0, 0, 0, 0, 0, 0, 0, 0, 0, 0, 0, 0, 0, 0, 0, 0, 0, 0, 0, 0, 0, 0, 0, 0, 0, 0, 0, 0, 0, 0, 0, 0, 0, 0, 0, 0, 0, 0, 0, 0, 0, 0, 0, 0, 0, 0, 0, 0, 0, 0, 0, 0, 0, 0, 0, 0, 0, 0, 0, 0, 0, 0, 0, 0, 0, 0, 0, 0, 0, 0, 0, 0, 0, 0, 0, 0, 0, 0, 0, 0, 0, 0, 0, 0, 0, 0, 0, 0, 0, 0, 0, 0, 0, 0, 0, 0, 0, 0, 0, 0, 0, 0, 0, 0, 0, 0, 0, 0, 0, 0, 0, 0, 0, 0, 0, 0, 0, 0, 0, 0, 0, 0, 0, 0, 0, 0, 0, 0, 0, 0, 0, 0, 0, 0, 0, 0, 0, 0, 0, 0, 0, 0, 0, 0, 0, 0, 0, 0, 0, 0, 0, 0, 0, 0, 0, 0, 0, 0, 0, 0, 0, 0, 0, 0, 0, 0, 0, 0, 0, 0, 0, 0, 0, 0, 0, 0, 0, 0, 0, 0, 0, 0, 0, 0, 0, 0, 0, 0, 0, 0, 0, 0, 0, 0, 0, 0, 0, 0, 0, 0, 0, 0, 0, 0, 0, 0, 0, 0, 0, 0, 0, 0, 0, 0, 0, 0, 0, 0, 0, 0, 0, 0, 0, 0, 0, 0, 0, 0, 0, 0, 0, 0, 0, 0, 0, 0, 0, 0, 0, 0, 0, 0, 0, 0, 0, 0, 0, 0, 0, 0, 0, 0, 0, 0, 0, 0, 0, 0, 0, 0, 0, 0, 0, 0, 0, 0, 0, 0, 0, 0, 0, 0, 0, 0, 0, 0, 0, 0, 0, 0, 0, 0, 0, 0, 0, 0, 0, 0, 0, 0, 0, 0, 0, 0, 0, 0, 0, 0, 0, 0, 0, 0, 0, 0, 0, 0, 0, 0, 0, 0, 0, 0, 0, 0, 0, 0, 0, 0, 0, 0, 0, 0, 0, 0, 0, 0, 0, 0, 0, 0, 0, 0, 0, 0, 0, 0, 0, 0, 0, 0, 0, 0, 0, 0, 0, 0, 0, 0, 0, 0, 0, 0, 0, 0, 0, 0, 0, 0, 0, 0, 0, 0, 0, 0, 0, 0, 0, 0, 0, 0, 0, 0, 0, 0, 0, 0, 0, 0, 0, 0, 0, 0, 0, 0, 0, 0, 0, 0, 0, 0, 0, 0, 0, 0, 0, 0, 0, 0, 0, 0, 0, 0, 0, 0, 0, 0, 0, 0, 0, 0, 0, 0, 0, 0, 0, 0, 0, 0, 0, 0, 0, 0, 0, 0, 0, 0, 0, 0, 0, 0, 0, 0, 0, 0, 0, 0, 0, 0, 0, 0, 0, 0, 0, 0, 0, 0, 0, 0, 0, 0, 0, 0, 0, 0, 0, 0, 0, 0, 0, 0, 0, 0, 0, 0, 0, 0, 0, 0, 0, 0, 0, 0, 0, 0, 0, 0, 0, 0, 0, 0, 0, 0, 0, 0, 0, 0, 0, 0, 0, 0, 0, 0, 0, 0, 0, 0, 0, 0, 0, 0, 0, 0, 0, 0, 0, 0, 0, 0, 0, 0, 0, 0, 0, 0, 0, 0, 0, 0, 0, 0, 0, 0, 0, 0, 0, 0, 0, 0, 0, 0, 0, 0, 0, 0, 0, 0, 0, 0, 0, 0, 0, 0, 0, 0, 0, 0, 0, 0, 0, 0, 0, 0, 0, 0, 0, 0, 0, 0, 0, 0, 0, 0, 0, 0, 0, 0, 0, 0, 0, 0, 0, 0, 0, 0, 0, 0, 0, 0, 0, 0, 0, 0, 0, 0, 0, 0, 0, 0, 0, 0, 0, 0, 0, 0, 0, 0, 0, 0, 0, 0, 0, 0, 0, 0, 0, 0, 0, 0, 0, 0, 0, 0, 0, 0, 0, 0, 0, 0, 0, 0, 0, 0, 0, 0, 0, 0, 0, 0, 0, 0, 0, 0, 0, 0, 0, 0, 0, 0, 0, 0, 0, 0, 0, 0, 0, 0, 0, 0, 0, 0, 0, 0, 0, 0, 0, 0, 0, 0, 0, 0, 0, 0, 0, 0, 0, 0, 0, 0, 0, 0, 0, 0, 0, 0, 0, 0, 0, 0, 0, 0, 0, 0, 0, 0, 0, 0, 0, 0, 0, 0, 0, 0, 0, 0, 0, 0, 0, 0, 0, 0, 0, 0, 0, 0, 0, 0, 0, 0, 0, 0, 0, 0, 0, 0, 0, 0, 0, 0, 0, 0, 0, 0, 0, 0, 0, 0, 0, 0, 0, 0, 0, 0, 0, 0, 0, 0, 0, 0, 0, 0, 0, 0, 0, 0, 0, 0, 0, 0, 0, 0, 0, 0, 0, 0, 0, 0, 0, 0, 0, 0, 0, 0, 0, 0, 0, 0, 0, 0, 0, 0, 0, 0, 0, 0, 0, 0, 0, 0, 0, 0, 0, 0, 0]\n"
     ]
    }
   ],
   "source": [
    "print(VSM_matrix['3'])"
   ]
  },
  {
   "cell_type": "markdown",
   "metadata": {},
   "source": [
    "# Compute TF-IDF matric for VSM"
   ]
  },
  {
   "cell_type": "code",
   "execution_count": 37,
   "metadata": {},
   "outputs": [
    {
     "name": "stdout",
     "output_type": "stream",
     "text": [
      "143\n",
      "0\n",
      "doc lengths: {'1': 143, '2': 199, '3': 26, '4': 78, '5': 55, '6': 106, '7': 220, '8': 164, '9': 338, '10': 54, '11': 109, '12': 129, '13': 144, '14': 375, '15': 144, '16': 143, '17': 144, '18': 132, '19': 68, '20': 164, '21': 61, '22': 90, '23': 141, '24': 272, '25': 380, '26': 61, '27': 140, '28': 164, '29': 253, '30': 116, '31': 37, '32': 183, '33': 271, '34': 176, '35': 157, '36': 143, '37': 164, '38': 84, '39': 161, '40': 159, '41': 73, '42': 276, '43': 150, '44': 290, '45': 164, '46': 91, '47': 203, '48': 122, '49': 403, '50': 153, '51': 208, '52': 187, '53': 213, '54': 217, '55': 141, '56': 222, '57': 179, '58': 183, '59': 236, '60': 140, '61': 136, '62': 292, '63': 138, '64': 151, '65': 85, '66': 166, '67': 90, '68': 114, '69': 135, '70': 206, '71': 81, '72': 256, '73': 347, '74': 87, '75': 115, '76': 194, '77': 356, '78': 199, '79': 169, '80': 292, '81': 117, '82': 317, '83': 316, '84': 179, '85': 287, '86': 116, '87': 117, '88': 140, '89': 440, '90': 108, '91': 157, '92': 200, '93': 92, '94': 473, '95': 122, '96': 267, '97': 235, '98': 73, '99': 304, '100': 240, '101': 324, '102': 80, '103': 132, '104': 129, '105': 174, '106': 70, '107': 91, '108': 113, '109': 175, '110': 350, '111': 111, '112': 149, '113': 115, '114': 198, '115': 199, '116': 166, '117': 139, '118': 153, '119': 76, '120': 105, '121': 140, '122': 231, '123': 242, '124': 215, '125': 218, '126': 124, '127': 132, '128': 162, '129': 257, '130': 92, '131': 366, '132': 344, '133': 216, '134': 205, '135': 194, '136': 86, '137': 47, '138': 236, '139': 149, '140': 366, '141': 88, '142': 104, '143': 63, '144': 142, '145': 139, '146': 245, '147': 165, '148': 141, '149': 282, '150': 175, '151': 305, '152': 194, '153': 64, '154': 87, '155': 274, '156': 276, '157': 256, '158': 142, '159': 105, '160': 382, '161': 62, '162': 207, '163': 383, '164': 298, '165': 385, '166': 197, '167': 129, '168': 255, '169': 134, '170': 263, '171': 173, '172': 233, '173': 314, '174': 287, '175': 74, '176': 115, '177': 229, '178': 72, '179': 265, '180': 66, '181': 51, '182': 116, '183': 154, '184': 149, '185': 301, '186': 191, '187': 278, '188': 236, '189': 358, '190': 175, '191': 214, '192': 209, '193': 405, '194': 67, '195': 173, '196': 182, '197': 285, '198': 283, '199': 361, '200': 121, '201': 190, '202': 312, '203': 68, '204': 185, '205': 260, '206': 299, '207': 212, '208': 124, '209': 244, '210': 344, '211': 213, '212': 357, '213': 267, '214': 140, '215': 76, '216': 278, '217': 124, '218': 264, '219': 222, '220': 155, '221': 161, '222': 203, '223': 43, '224': 69, '225': 380, '226': 74, '227': 160, '228': 116, '229': 227, '230': 221, '231': 102, '232': 229, '233': 114, '234': 318, '235': 145, '236': 172, '237': 143, '238': 38, '239': 180, '240': 249, '241': 74, '242': 69, '243': 113, '244': 501, '245': 163, '246': 150, '247': 186, '248': 123, '249': 165, '250': 57, '251': 97, '252': 255, '253': 166, '254': 64, '255': 211, '256': 128, '257': 230, '258': 63, '259': 162, '260': 116, '261': 158, '262': 457, '263': 155, '264': 56, '265': 87, '266': 264, '267': 202, '268': 119, '269': 118, '270': 214, '271': 40, '272': 451, '273': 111, '274': 252, '275': 124, '276': 217, '277': 261, '278': 139, '279': 109, '280': 146, '281': 48, '282': 236, '283': 187, '284': 101, '285': 62, '286': 36, '287': 144, '288': 194, '289': 247, '290': 125, '291': 63, '292': 257, '293': 132, '294': 272, '295': 110, '296': 240, '297': 149, '298': 57, '299': 144, '300': 255, '301': 58, '302': 141, '303': 80, '304': 286, '305': 154, '306': 156, '307': 141, '308': 174, '309': 190, '310': 161, '311': 191, '312': 76, '313': 70, '314': 181, '315': 486, '316': 106, '317': 219, '318': 143, '319': 121, '320': 26, '321': 97, '322': 54, '323': 80, '324': 71, '325': 246, '326': 49, '327': 86, '328': 279, '329': 647, '330': 105, '331': 88, '332': 192, '333': 63, '334': 238, '335': 93, '336': 79, '337': 88, '338': 146, '339': 52, '340': 70, '341': 248, '342': 240, '343': 105, '344': 382, '345': 143, '346': 191, '347': 125, '348': 140, '349': 221, '350': 84, '351': 123, '352': 209, '353': 162, '354': 128, '355': 92, '356': 83, '357': 180, '358': 88, '359': 105, '360': 150, '361': 70, '362': 64, '363': 249, '364': 374, '365': 183, '366': 178, '367': 105, '368': 146, '369': 234, '370': 192, '371': 153, '372': 106, '373': 329, '374': 110, '375': 253, '376': 96, '377': 147, '378': 78, '379': 141, '380': 115, '381': 243, '382': 43, '383': 120, '384': 56, '385': 58, '386': 85, '387': 63, '388': 163, '389': 66, '390': 120, '391': 117, '392': 87, '393': 56, '394': 65, '395': 245, '396': 72, '397': 120, '398': 55, '399': 55, '400': 65, '401': 329, '402': 117, '403': 114, '404': 173, '405': 26, '406': 229, '407': 66, '408': 74, '409': 96, '410': 173, '411': 93, '412': 112, '413': 138, '414': 217, '415': 114, '416': 258, '417': 490, '418': 61, '419': 127, '420': 154, '421': 164, '422': 118, '423': 311, '424': 95, '425': 116, '426': 156, '427': 217, '428': 171, '429': 47, '430': 62, '431': 162, '432': 206, '433': 393, '434': 241, '435': 189, '436': 61, '437': 66, '438': 65, '439': 181, '440': 99, '441': 268, '442': 221, '443': 220, '444': 100, '445': 103, '446': 140, '447': 129, '448': 143, '449': 97, '450': 77, '451': 72, '452': 361, '453': 214, '454': 198, '455': 199, '456': 246, '457': 128, '458': 237, '459': 278, '460': 110, '461': 101, '462': 139, '463': 105, '464': 178, '465': 108, '466': 238, '467': 192, '468': 115, '469': 104, '470': 112, '472': 118, '473': 116, '474': 170, '475': 120, '476': 233, '477': 147, '478': 85, '479': 178, '480': 96, '481': 101, '482': 70, '483': 41, '484': 281, '485': 46, '486': 230, '487': 115, '488': 129, '489': 130, '490': 85, '491': 124, '492': 60, '493': 280, '494': 152, '495': 103, '496': 116, '497': 152, '498': 166, '499': 399, '500': 107, '501': 53, '502': 46, '503': 106, '504': 202, '505': 89, '506': 124, '507': 30, '508': 132, '509': 58, '510': 70, '511': 163, '512': 67, '513': 105, '514': 101, '515': 131, '516': 96, '517': 78, '518': 202, '519': 163, '520': 225, '521': 149, '522': 378, '523': 181, '524': 64, '525': 116, '526': 113, '527': 98, '528': 135, '529': 280, '530': 126, '531': 140, '532': 51, '533': 38, '534': 83, '535': 117, '536': 303, '537': 79, '538': 172, '539': 71, '540': 208, '541': 198, '542': 204, '543': 84, '544': 98, '545': 94, '546': 136, '547': 127, '548': 331, '549': 76, '550': 119, '551': 48, '552': 216, '553': 184, '554': 147, '555': 161, '556': 176, '557': 131, '558': 123, '559': 93, '560': 244, '561': 232, '562': 228, '563': 274, '564': 255, '565': 222, '566': 175, '567': 177, '568': 126, '569': 264, '570': 89, '571': 217, '572': 380, '573': 158, '574': 186, '575': 268, '576': 431, '577': 85, '578': 60, '579': 198, '580': 152, '581': 91, '582': 92, '583': 139, '584': 140, '585': 114, '586': 104, '587': 113, '588': 284, '589': 237, '590': 65, '591': 62, '592': 69, '593': 185, '594': 63, '595': 231, '596': 113, '597': 82, '598': 60, '599': 268, '600': 186, '601': 250, '602': 141, '603': 219, '604': 141, '605': 157, '606': 164, '607': 48, '608': 134, '609': 69, '610': 150, '611': 166, '612': 108, '613': 136, '614': 216, '615': 104, '616': 139, '617': 95, '618': 142, '619': 44, '620': 241, '621': 116, '622': 221, '623': 220, '624': 224, '625': 320, '626': 180, '627': 144, '628': 220, '629': 120, '630': 139, '631': 73, '632': 79, '633': 97, '634': 134, '635': 187, '636': 231, '637': 112, '638': 222, '639': 90, '640': 363, '641': 132, '642': 81, '643': 123, '644': 185, '645': 147, '646': 262, '647': 76, '648': 99, '649': 260, '650': 64, '651': 184, '652': 87, '653': 144, '654': 110, '655': 94, '656': 249, '657': 107, '658': 262, '659': 144, '660': 299, '661': 203, '662': 339, '663': 127, '664': 75, '665': 137, '666': 152, '667': 243, '668': 112, '669': 93, '670': 42, '671': 129, '672': 74, '673': 400, '674': 120, '675': 267, '676': 87, '677': 290, '678': 98, '679': 183, '680': 139, '681': 124, '682': 194, '683': 271, '684': 65, '685': 294, '686': 222, '687': 87, '688': 250, '689': 255, '690': 123, '691': 120, '692': 217, '693': 187, '694': 175, '695': 364, '696': 288, '697': 171, '698': 162, '699': 209, '700': 106, '701': 257, '702': 167, '703': 84, '704': 339, '705': 222, '706': 100, '707': 221, '708': 67, '709': 206, '710': 266, '711': 143, '712': 296, '713': 160, '714': 118, '715': 120, '716': 98, '717': 342, '718': 158, '719': 166, '720': 182, '721': 512, '722': 182, '723': 135, '724': 149, '725': 105, '726': 120, '727': 192, '728': 61, '729': 149, '730': 263, '731': 272, '732': 184, '733': 193, '734': 226, '735': 52, '736': 95, '737': 98, '738': 145, '739': 329, '740': 217, '741': 95, '742': 102, '743': 129, '744': 130, '745': 71, '746': 142, '747': 133, '748': 170, '749': 148, '750': 88, '751': 67, '752': 109, '753': 222, '754': 161, '755': 130, '756': 164, '757': 337, '758': 125, '759': 206, '760': 169, '761': 80, '762': 166, '763': 95, '764': 157, '765': 143, '766': 251, '767': 271, '768': 85, '769': 87, '770': 137, '771': 110, '772': 106, '773': 282, '774': 59, '775': 95, '776': 65, '777': 163, '778': 64, '779': 199, '780': 108, '781': 218, '782': 226, '783': 141, '784': 190, '785': 161, '786': 230, '787': 171, '788': 223, '789': 93, '790': 204, '791': 89, '792': 438, '793': 148, '794': 303, '795': 56, '796': 189, '797': 337, '798': 666, '799': 240, '800': 157, '801': 207, '802': 135, '803': 140, '804': 159, '805': 222, '806': 269, '807': 108, '808': 186, '809': 122, '810': 195, '811': 323, '812': 177, '813': 135, '814': 204, '815': 244, '816': 163, '817': 85, '818': 124, '819': 105, '820': 264, '821': 74, '822': 227, '823': 109, '824': 177, '825': 240, '826': 352, '827': 353, '828': 238, '829': 170, '830': 191, '831': 95, '832': 46, '833': 80, '834': 49, '835': 64, '836': 130, '837': 218, '838': 80, '839': 164, '840': 90, '841': 65, '842': 63, '843': 170, '844': 224, '845': 237, '846': 218, '847': 102, '848': 72, '849': 101, '850': 74, '851': 128, '852': 152, '853': 48, '854': 38, '855': 65, '856': 251, '857': 227, '858': 191, '859': 245, '860': 110, '861': 105, '862': 61, '863': 102, '864': 46, '865': 130, '866': 110, '867': 143, '868': 94, '869': 299, '870': 117, '871': 65, '872': 208, '873': 164, '874': 326, '875': 42, '876': 180, '877': 69, '878': 95, '879': 37, '880': 70, '881': 154, '882': 57, '883': 113, '884': 71, '885': 85, '886': 71, '887': 104, '888': 111, '889': 290, '890': 140, '891': 175, '892': 84, '893': 125, '894': 226, '895': 111, '896': 105, '897': 107, '898': 54, '899': 172, '900': 89, '901': 132, '902': 232, '903': 254, '904': 176, '905': 84, '906': 61, '907': 210, '908': 192, '909': 72, '910': 47, '911': 110, '912': 160, '913': 116, '914': 196, '915': 82, '916': 173, '917': 341, '918': 108, '919': 151, '920': 43, '921': 185, '922': 120, '923': 161, '924': 194, '925': 62, '926': 129, '927': 436, '928': 438, '929': 166, '930': 141, '931': 53, '932': 68, '933': 281, '934': 218, '935': 66, '936': 151, '937': 134, '938': 66, '939': 106, '940': 102, '941': 99, '942': 137, '943': 156, '944': 124, '945': 99, '946': 335, '947': 315, '948': 181, '949': 119, '950': 92, '951': 101, '952': 116, '953': 60, '954': 84, '955': 85, '956': 120, '957': 94, '958': 107, '959': 192, '960': 149, '961': 163, '962': 429, '963': 52, '964': 142, '965': 89, '966': 255, '967': 145, '968': 155, '969': 98, '970': 182, '971': 144, '972': 187, '973': 94, '974': 212, '975': 195, '976': 403, '977': 244, '978': 72, '979': 139, '980': 208, '981': 112, '982': 164, '983': 88, '984': 127, '985': 142, '986': 287, '987': 256, '988': 91, '989': 203, '990': 175, '991': 251, '992': 334, '993': 214, '994': 181, '996': 287, '997': 190, '998': 136, '999': 226, '1000': 205, '1001': 130, '1002': 175, '1003': 153, '1004': 136, '1005': 119, '1006': 88, '1007': 178, '1008': 87, '1009': 164, '1010': 142, '1011': 68, '1012': 134, '1013': 126, '1014': 60, '1015': 154, '1016': 79, '1017': 154, '1018': 129, '1019': 250, '1020': 129, '1021': 65, '1022': 68, '1023': 68, '1024': 206, '1025': 191, '1026': 61, '1027': 99, '1028': 193, '1029': 71, '1030': 49, '1031': 115, '1032': 110, '1033': 108, '1034': 198, '1035': 281, '1036': 100, '1037': 86, '1038': 99, '1039': 296, '1040': 523, '1041': 118, '1042': 85, '1043': 174, '1044': 143, '1045': 25, '1046': 85, '1047': 422, '1048': 49, '1049': 78, '1050': 75, '1051': 208, '1052': 105, '1053': 177, '1054': 109, '1055': 111, '1056': 229, '1057': 146, '1058': 90, '1059': 216, '1060': 55, '1061': 301, '1062': 98, '1063': 80, '1064': 175, '1065': 135, '1066': 348, '1067': 58, '1068': 139, '1069': 60, '1070': 98, '1071': 102, '1072': 392, '1073': 58, '1074': 158, '1075': 215, '1076': 99, '1077': 137, '1078': 154, '1079': 93, '1080': 116, '1081': 118, '1082': 297, '1083': 76, '1084': 53, '1085': 78, '1086': 78, '1087': 125, '1088': 191, '1089': 128, '1090': 62, '1091': 116, '1092': 277, '1093': 101, '1094': 173, '1095': 203, '1096': 86, '1097': 233, '1098': 164, '1099': 74, '1100': 123, '1101': 94, '1102': 53, '1103': 85, '1104': 313, '1105': 116, '1106': 142, '1107': 224, '1108': 269, '1109': 134, '1110': 179, '1111': 52, '1112': 138, '1113': 172, '1114': 210, '1115': 186, '1116': 78, '1117': 134, '1118': 83, '1119': 293, '1120': 91, '1121': 127, '1122': 201, '1123': 98, '1124': 88, '1125': 170, '1126': 92, '1127': 212, '1128': 131, '1129': 127, '1130': 128, '1131': 119, '1132': 94, '1133': 70, '1134': 291, '1135': 122, '1136': 183, '1137': 250, '1138': 67, '1139': 116, '1140': 49, '1141': 69, '1142': 59, '1143': 127, '1144': 318, '1145': 98, '1146': 43, '1147': 463, '1148': 80, '1149': 204, '1150': 93, '1151': 137, '1152': 38, '1153': 158, '1154': 253, '1155': 127, '1156': 198, '1157': 205, '1158': 75, '1159': 114, '1160': 117, '1161': 116, '1162': 143, '1163': 176, '1164': 270, '1165': 173, '1166': 211, '1167': 199, '1168': 126, '1169': 166, '1170': 108, '1171': 77, '1172': 175, '1173': 156, '1174': 79, '1175': 289, '1176': 45, '1177': 112, '1178': 114, '1179': 214, '1180': 160, '1181': 146, '1182': 214, '1183': 138, '1184': 210, '1185': 152, '1186': 129, '1187': 119, '1188': 168, '1189': 113, '1190': 117, '1191': 136, '1192': 128, '1193': 150, '1194': 163, '1195': 261, '1196': 111, '1197': 148, '1198': 278, '1199': 248, '1200': 163, '1201': 594, '1202': 295, '1203': 212, '1204': 312, '1205': 221, '1206': 130, '1207': 183, '1208': 115, '1209': 280, '1210': 126, '1211': 132, '1212': 256, '1213': 226, '1214': 185, '1215': 128, '1216': 208, '1217': 121, '1218': 267, '1219': 127, '1220': 221, '1221': 105, '1222': 188, '1223': 96, '1224': 250, '1225': 284, '1226': 272, '1227': 85, '1228': 113, '1229': 292, '1230': 183, '1231': 181, '1232': 108, '1233': 113, '1234': 79, '1235': 296, '1236': 89, '1237': 119, '1238': 171, '1239': 433, '1240': 198, '1241': 167, '1242': 244, '1243': 108, '1244': 425, '1245': 174, '1246': 265, '1247': 166, '1248': 377, '1249': 76, '1250': 257, '1251': 204, '1252': 222, '1253': 85, '1254': 128, '1255': 178, '1256': 68, '1257': 149, '1258': 183, '1259': 161, '1260': 110, '1261': 265, '1262': 123, '1263': 286, '1264': 217, '1265': 179, '1266': 55, '1267': 66, '1268': 374, '1269': 69, '1270': 138, '1271': 310, '1272': 96, '1273': 170, '1274': 240, '1275': 102, '1276': 50, '1277': 276, '1278': 190, '1279': 169, '1280': 259, '1281': 218, '1282': 166, '1283': 82, '1284': 156, '1285': 60, '1286': 100, '1287': 109, '1288': 119, '1289': 242, '1290': 206, '1291': 264, '1292': 266, '1293': 55, '1294': 186, '1295': 161, '1296': 189, '1297': 134, '1298': 119, '1299': 64, '1300': 298, '1301': 186, '1302': 207, '1303': 233, '1304': 165, '1305': 73, '1306': 49, '1307': 266, '1308': 99, '1309': 230, '1310': 297, '1311': 66, '1312': 111, '1313': 669, '1314': 73, '1315': 145, '1316': 232, '1317': 45, '1318': 81, '1319': 248, '1320': 213, '1321': 264, '1322': 244, '1323': 110, '1324': 162, '1325': 337, '1326': 151, '1327': 160, '1328': 223, '1329': 176, '1330': 212, '1331': 86, '1332': 129, '1333': 256, '1334': 147, '1335': 218, '1336': 197, '1337': 169, '1338': 183, '1339': 213, '1340': 112, '1341': 211, '1342': 294, '1343': 267, '1344': 205, '1345': 125, '1346': 125, '1347': 241, '1348': 77, '1349': 197, '1350': 118, '1351': 293, '1352': 243, '1353': 136, '1354': 162, '1355': 208, '1356': 306, '1357': 46, '1358': 41, '1359': 73, '1360': 126, '1361': 156, '1362': 144, '1363': 165, '1364': 215, '1365': 146, '1366': 186, '1367': 74, '1368': 84, '1369': 76, '1370': 253, '1371': 181, '1372': 190, '1373': 295, '1374': 136, '1375': 318, '1376': 85, '1377': 107, '1378': 87, '1379': 109, '1380': 306, '1381': 288, '1382': 320, '1383': 235, '1384': 165, '1385': 179, '1386': 228, '1387': 236, '1388': 95, '1389': 140, '1390': 174, '1391': 219, '1392': 323, '1393': 179, '1394': 127, '1395': 64, '1396': 111, '1397': 80, '1398': 215, '1399': 87, '1400': 104}\n",
      "{'1': {'experiment': 0.339751174183982, 'investig': 0.2608546306516607, 'aerodynam': 0.39926487414951006, 'wing': 0.5071074728090315, 'slipstream': 1.4860554094026426, 'studi': 0.20147142665327317, 'propel': 0.4449933398606155, 'made': 0.26571883264165586, 'order': 0.25400173284469246, 'determin': 0.17550722889645634, 'spanwis': 0.4491316784028531, 'distribut': 0.15469712512615993, 'lift': 0.6210055672524492, 'increas': 0.21790233270900874, 'due': 0.43926996398474427, 'differ': 0.4753468107985596, 'angl': 0.2206983399190071, 'attack': 0.2924413272587083, 'free': 0.294588405454468, 'stream': 0.2517483568659707, 'veloc': 0.1713960774928944, 'ratio': 0.17977249636249165, 'result': 0.08001973329518401, 'intend': 0.541408861743773, 'part': 0.5006252379973014, 'evalu': 0.5769009545227284, 'basi': 0.3440255402068905, 'theoret': 0.2029148933881453, 'treatment': 0.4015968511981104, 'problem': 0.16672150871820204, 'compar': 0.1972477421470962, 'span': 0.44100023652429143, 'load': 0.2247318881707689, 'curv': 0.28523038682737917, 'togeth': 0.4044066672508399, 'support': 0.3474225616752556, 'evid': 0.4228999836345958, 'show': 0.2206983399190071, 'substanti': 0.4015968511981104, 'increment': 0.8495779564576172, 'produc': 0.33136897849783903, 'destal': 1.564088058389243, 'boundarylayercontrol': 0.8241707836973489, 'effect': 0.18398454951012252, 'integr': 0.258646939790197, 'remain': 0.37901476794285766, 'subtract': 0.7452963402696435, 'found': 0.1670743516935818, 'agre': 0.3601805872950742, 'well': 0.25476288463508473, 'potenti': 0.3661188964329101, 'flow': 0.07629913083157977, 'theori': 0.12848407710409526, 'empir': 0.45342621706349, 'specif': 0.35638717708116513, 'configur': 0.3241186433046879, 'experi': 0.25249453507013364, 'brenckmanm': 0.8241707836973489, 'j': 0.12525748582243454, 'ae': 0.17250265122186267, 'sc': 0.16359420986477424, '25': 0.38131366973470354, '1958': 0.31730272785114144, '324': 0.8241707836973489}, '11': {'experiment': 0.2105239483071732, 'aerodynam': 0.30664729936837803, 'studi': 0.26199090404680253, 'differ': 0.4987074274375032, 'free': 0.6486092129536855, 'stream': 0.5542862535859665, 'veloc': 0.22288129904255932, 'theoret': 0.2638679699966132, 'problem': 0.4549844929629884, 'effect': 0.14130560659253008, 'j': 0.1628832559255421, 'ae': 0.22432027357340314, 'sc': 0.21273584870700188, 'situat': 0.6143492958709752, 'polytechn': 0.7169166280385075, 'institut': 0.6014739281909968, 'pressur': 0.29944522505666205, 'gradient': 0.6369540550378433, 'solut': 0.3091634167203352, 'laminar': 0.45106854321106943, 'one': 0.26576915308473703, 'may': 0.2595246239313393, 'occur': 0.3596661086311018, 'gener': 0.21318222425356728, 'superson': 0.24387293876006247, 'perform': 0.421479798839945, 'two': 0.22240473379496498, '23': 0.5786637308402395, '1956': 0.4389085529064471, 'similar': 0.5660194008296426, 'compress': 0.4948028178066479, 'mix': 1.3182992176299635, 'mani': 0.5222314839156514, 'practic': 0.3902986952882032, 'interest': 0.4563373069729491, 'wherein': 1.327086042918476, 'stagnat': 0.3620919560988716, 'anoth': 0.6014739281909968, 'major': 0.5589046391404815, 'interact': 0.41090577430278463, 'take': 0.47876265786106986, 'place': 0.5543512527539579, 'presenc': 0.7574572886713501, 'axial': 0.5837956993943373, 'characterist': 0.30006962174823415, 'influenc': 0.38882631118506183, 'significantli': 0.6440432172415119, 'devic': 0.7466105494090443, 'phenomena': 0.5589046391404815, 'cite': 0.8666066356430787, 'program': 0.6077716182508313, 'research': 0.43485423404687706, 'carri': 0.43485423404687706, 'brooklyn': 0.7466105494090443, 'napolitanol': 1.0717412999781435, '389': 0.969173967810611}, '12': {'experiment': 0.17891070133936748, 'attack': 0.3231813641219406, 'problem': 0.1842464781605592, 'load': 0.24835463188989387, 'well': 0.28154234340199774, 'j': 0.13842395503412414, 'ae': 0.1906353067780122, 'sc': 0.18079045257436127, 'highspe': 0.9188174228804479, 'boundari': 0.15333698164971576, 'layer': 0.17130892446833487, 'origin': 0.42398848071743644, 'discuss': 0.34933071128470056, 'present': 0.12730184999833807, 'aeronaut': 0.478969435552331, 'engin': 0.411527500842607, 'heat': 0.2017635782716836, 'subject': 0.33423019461066744, 'input': 0.6493076380849646, 'analyt': 0.32436215229125726, 'one': 0.22586003138883695, 'thermal': 0.5937123472927618, 'method': 0.14171180286382307, 'speed': 0.3690747343441997, 'upon': 0.36955451681061474, 'avail': 0.3581884484742999, 'suggest': 0.37126546859253257, '23': 0.49176891634781605, '1956': 0.37300002045260766, 'anoth': 0.5111538292687862, 'research': 0.36955451681061474, 'structur': 0.9022446335654676, 'aerelast': 1.5421246891663236, 'consider': 0.46286189589381027, 'high': 0.4306150640322246, 'flight': 0.726957703741033, 'domin': 0.6344960661066569, 'factor': 0.6117889980229436, 'design': 0.2884822016069126, 'aircraft': 0.6200320286444364, 'aeroelast': 0.9267114612626203, 'matter': 0.7726498749228353, 'concern': 0.38586189421195877, 'larg': 0.24452429468090786, 'interrel': 0.7726498749228353, 'summari': 0.570258203220807, 'tool': 0.6212466634856357, 'meet': 0.6660996134505155, 'demand': 0.7726498749228353, 'state': 0.39592750611810745, 'art': 0.8236383351876642, 'respect': 0.3394706618717414, 'transfer': 0.25638414707413915, 'mode': 0.40460356779646633, 'failur': 0.47110731209475537, 'combin': 0.318566056545786, 'acrothermoelast': 0.9108036837390139, 'allevi': 0.6660996134505155, 'summar': 0.5621422895336149, 'final': 0.3938488965438409, 'avenu': 0.8236383351876642, 'fundament': 0.48309285466945723, 'bisplinghoffrl': 0.9108036837390139, '289': 0.8236383351876642}, '16': {'experiment': 0.16189325489922007, 'stream': 0.2517483568659707, 'result': 0.08001973329518401, 'show': 0.2206983399190071, 'remain': 0.37901476794285766, 'flow': 0.07629913083157977, 'j': 0.12525748582243454, 'ae': 0.17250265122186267, 'sc': 0.16359420986477424, '25': 0.38131366973470354, '1958': 0.31730272785114144, 'shear': 0.30128397000479573, 'incompress': 0.4606201481620672, 'viscos': 0.3601805872950742, 'boundari': 0.33110318753164153, 'layer': 0.40450080753629375, 'boundarylay': 0.24665778039542915, 'shown': 0.18096404409169156, 'equat': 0.1421073132464963, 'pressur': 0.1097267279919569, 'laminar': 0.2048684481216383, 'friction': 0.3440255402068905, 'analyt': 0.29350980241780217, 'temperatur': 0.19273160308850715, 'gener': 0.16393747337812736, 'point': 0.20939057039490844, 'given': 0.14644551720635893, 'element': 0.457889211370563, 'turbul': 0.6268038086626394, 'measur': 0.19496726966428501, 'function': 0.2289136835660785, 'relat': 0.25400173284469246, 'valu': 0.17324639091777222, 'good': 0.26515109677918514, 'agreement': 0.23262461356009592, 'caus': 0.34072699712492793, 'mean': 0.258646939790197, 'coeffici': 0.20887914585589243, 'analysi': 0.1846154301490339, 'compress': 0.47162510217076303, 'modif': 0.41960144055263326, 'applic': 0.21093878160238047, 'compon': 0.35826807558038, 'comput': 0.2747484252071701, 'essenti': 0.35826807558038, 'demonstr': 0.4015968511981104, 'includ': 0.20837000957749946, 'thu': 0.32988148321980354, 'transform': 1.0444337448592969, 'equival': 0.3935611533457155, 'first': 0.2495387385376194, 'stewartson': 0.6202833051714782, 'except': 0.35271615651969573, 'explicit': 0.48911786535324975, 'requir': 0.2578594503608985, 'key': 0.6991577485991836, 'fluctuat': 0.4625344183160676, 'postul': 0.6202833051714782, 'appar': 0.4297985665588221, 'associ': 0.33911290242528286, 'mass': 0.34915987432780243, 'invari': 0.6202833051714782, 'rise': 0.4015968511981104, 'separ': 0.25400173284469246, 'independ': 0.37238424584550744, 'report': 0.2872444530052048, 'selfpreserv': 0.7452963402696435, 'magera': 0.6664218968419381, '305': 0.7452963402696435}, '17': {'experiment': 0.1608007632040915, 'studi': 0.20011185265149387, 'show': 0.2192090184297315, 'found': 0.16594689680481667, 'flow': 0.19775428813505846, 'experi': 0.25079064578332433, 'incompress': 0.4575117809432524, 'viscos': 0.7507785642655173, 'bodi': 0.18336960416106446, 'necessari': 0.3577500085744761, 'boundari': 0.2333422651610665, 'layer': 0.2606912699577154, 'hyperson': 0.2388080585387672, 'boundarylay': 0.24499327882747562, 'libbi': 0.6619247336450843, 'polytechn': 0.5475896774180339, 'institut': 0.45941313317644894, 'equat': 0.14114834148676808, 'comparison': 0.26008551441914696, 'case': 0.15147059666785034, 'gener': 0.2756971649087502, 'refer': 0.36164776987009495, 'laboratori': 0.3961631876292687, 'space': 0.3961631876292687, 'turbul': 0.44173486101201254, 'avail': 0.32193141860365176, 'data': 0.35649593719225703, 'suggest': 0.3336847391132974, 'extend': 0.30877426940589403, 'desir': 0.44610083793343563, 'extens': 0.3276553695931507, 'compress': 0.5824665901444818, 'mix': 0.6533536736498516, 'carri': 0.33214697557943296, 'brooklyn': 0.5702702572632196, 'differenti': 0.2926004573670661, 'applic': 0.35474027297557115, 'estim': 0.49541563942159844, 'sever': 0.2675953971101757, 'form': 0.2059592191110208, 'transform': 0.8403201245222189, 'mass': 0.3468036658297231, 'invari': 0.6160974954541518, 'remark': 0.8951814368761505, 'eddi': 1.17178536182466, 'connect': 0.42689819022852976, 'wake': 0.6575596903737134, 'behind': 0.34170397933752555, 'missil': 0.42004616047637705, 'vehicl': 0.35033594943833635, 'divis': 0.5986747880979041, 'electr': 0.3961631876292687, 'compani': 0.6619247336450843, 'axisymmetr': 0.3656847660169798, 'lack': 0.5583620033828817, 'make': 0.37645709198182753, 'ration': 0.5986747880979041, 'appli': 0.3664510262172443, 'infinitesim': 0.5475896774180339, 'mager': 0.6619247336450843, 'partial': 0.4016776411051787, 'valid': 0.3384276955579985, 'assumpt': 0.28941647565573264, 'establish': 0.378740480273021, 'lu': 0.7402669147839358, 'ting': 0.6619247336450843, 'paul': 0.6619247336450843, 'scienc': 0.5835825525062327, 'inc': 0.5835825525062327}}\n"
     ]
    }
   ],
   "source": [
    "import math\n",
    "\n",
    "def compute_tf_idf(inverted_index, documents):\n",
    "    \"\"\"Compute the TF-IDF matrix from an inverted index.\"\"\"\n",
    "    N = len(documents)  # Total number of documents\n",
    "    tf_idf = defaultdict(dict)  # Store TF-IDF scores\n",
    "    \n",
    "    # Create a dictionary for document lengths (total terms in each document)\n",
    "    doc_lengths = {doc[0]: len(doc[4].split()) for doc in documents}\n",
    "    print(doc_lengths['1'])  # Check a sample document length\n",
    "    print(sum(inverted_index[term]['1'] for term in inverted_index if '1' in inverted_index[term]))\n",
    "\n",
    "    print(\"doc lengths:\", doc_lengths)\n",
    "\n",
    "    avg_doc_length = sum(len(doc[1].split()) for doc in documents) / N\n",
    "    \n",
    "    for term, doc_freqs in inverted_index.items():\n",
    "        df = len(doc_freqs)  # Number of documents containing the term\n",
    "        if df == 0:\n",
    "            print(\"df:\", df)\n",
    "        \n",
    "        idf = math.log(N / df) if df > 0 else 0  # Compute IDF\n",
    "        \n",
    "        for (doc_id, freq) in doc_freqs:\n",
    "            # Retrieve the document length for normalization\n",
    "            doc_length = doc_lengths[doc_id]\n",
    "            tf = 1 + math.log(freq) if freq > 0 else 0  # Logarithmic TF\n",
    "            tf /= (1 - 0.75 + 0.75 * (doc_length / avg_doc_length))\n",
    "            tf_idf_score = tf * idf  # Compute TF-IDF\n",
    "            \n",
    "            if doc_id not in tf_idf:\n",
    "                tf_idf[doc_id] = {}\n",
    "            tf_idf[doc_id][term] = tf_idf_score\n",
    "            \n",
    "    \n",
    "    return tf_idf\n",
    "\n",
    "tf_idf = compute_tf_idf(inverted_index, documents)\n",
    "print(dict(list(tf_idf.items())[:5]))  # Display first 5 documents in the TF-IDF matrix"
   ]
  },
  {
   "cell_type": "code",
   "execution_count": 38,
   "metadata": {},
   "outputs": [
    {
     "name": "stdout",
     "output_type": "stream",
     "text": [
      "Sample doc length: 77\n",
      "Summed TF from index: 0\n",
      "{'1': {'experiment': 5.737841054382719, 'investig': 4.498056615657707, 'aerodynam': 5.866472543755608, 'wing': 7.718907909927602, 'slipstream': 17.67374383820254, 'studi': 3.1256046045635446, 'propel': 5.50807897937778, 'made': 4.546207163792112, 'order': 3.6442894977632214, 'determin': 2.868829620446816, 'spanwis': 5.547717444047467, 'distribut': 2.6628827758605262, 'lift': 8.843078186426647, 'increas': 3.287975856727465, 'due': 6.261100412521749, 'differ': 7.078507506621823, 'angl': 3.3155953337023814, 'attack': 4.022866775442388, 'free': 4.043981041249094, 'stream': 3.622067528674192, 'veloc': 2.8281529384874706, 'ratio': 2.9110259821991606, 'result': 1.9230912840291214, 'intend': 6.414393773893241, 'part': 6.865183629729566, 'evalu': 7.613525437098513, 'basi': 4.528946690092039, 'theoret': 3.1398731774225555, 'treatment': 5.08971203276697, 'problem': 2.7818959420778144, 'compar': 3.083849448202598, 'span': 5.4697844533932525, 'load': 3.3554335296663074, 'curv': 3.9519281125942523, 'togeth': 5.116932153071074, 'support': 4.562172036297838, 'evid': 5.29565887735326, 'show': 3.3155953337023814, 'substanti': 5.08971203276697, 'increment': 10.238127503154494, 'produc': 4.405032950758269, 'destal': 16.937352644948966, 'boundarylayercontrol': 8.528744697620185, 'effect': 3.7367269281685958, 'integr': 3.690089568515421, 'remain': 4.870397217587137, 'subtract': 8.07073928633969, 'found': 2.7853876924057928, 'agre': 4.6868190313091755, 'well': 3.651795042530893, 'potenti': 4.744758927793769, 'flow': 1.8862102966909287, 'theori': 2.403318664398648, 'empir': 5.588797619610542, 'specif': 4.6497802923707505, 'configur': 4.333966730986997, 'experi': 3.6294263842225645, 'brenckmanm': 8.528744697620185, 'j': 2.3713588735232, 'ae': 2.8391021065901154, 'sc': 2.750946599728131, '25': 4.892765875895467, '1958': 4.267108146013206, '324': 8.528744697620185}, '11': {'experiment': 3.2132481449378094, 'aerodynam': 4.072023673559096, 'studi': 3.6733473886181787, 'differ': 6.711694197170214, 'free': 8.046958955742772, 'stream': 7.207409837205157, 'veloc': 3.3237691664638613, 'theoret': 3.6901164402040476, 'problem': 6.861215438006099, 'effect': 2.5937290935290482, 'j': 2.786924780189643, 'ae': 3.336637108237004, 'sc': 3.2330328966067228, 'situat': 6.7810597144584275, 'polytechn': 7.644735699974718, 'institut': 6.6703679382514025, 'pressur': 5.46919629427205, 'gradient': 7.943359627840646, 'solut': 5.0174356544438945, 'laminar': 6.286333532948802, 'one': 3.707100027049598, 'may': 3.6513131522351805, 'occur': 4.544450147436658, 'gener': 3.2370254778579746, 'superson': 3.5114436682009056, 'perform': 5.093467468785042, 'two': 3.3195074219839, '23': 6.473335592627006, '1956': 5.247806112572257, 'similar': 7.31197322581786, 'compress': 6.676845320621943, 'mix': 15.219114204559945, 'mani': 5.981652438406807, 'practic': 4.816808059272569, 'interest': 5.4018956650245835, 'wherein': 13.855029665989589, 'stagnat': 4.566036513546053, 'anoth': 6.6703679382514025, 'major': 6.301802850019919, 'interact': 4.9997203698049155, 'take': 5.599745205051758, 'place': 6.262172078221109, 'presenc': 9.011973042450492, 'axial': 7.470327953387292, 'characterist': 4.013338659432403, 'influenc': 4.803728817856248, 'significantli': 7.034691705733343, 'devic': 7.886773449295491, 'phenomena': 6.301802850019919, 'cite': 8.806948696155446, 'program': 6.724560453114763, 'research': 5.21192467788654, 'carri': 5.21192467788654, 'brooklyn': 7.886773449295491, 'napolitanol': 10.023354207199535, '389': 9.48508619369463}, '12': {'experiment': 2.924924769324915, 'attack': 4.3036213035062065, 'problem': 2.9760435303371393, 'load': 3.5896081145224956, 'well': 3.906652598344136, 'j': 2.5368552169443013, 'ae': 3.0372420939559768, 'sc': 2.9429342437262354, 'highspe': 11.308804476757366, 'boundari': 2.679834275856947, 'layer': 2.852085849549698, 'origin': 5.258643593055713, 'discuss': 5.396813711505507, 'present': 2.4301977743479957, 'aeronaut': 5.773529671195895, 'engin': 5.141229620778709, 'heat': 3.1438153459225298, 'subject': 4.4087670144142, 'input': 7.3064157112202786, 'analyt': 4.314862439130813, 'one': 3.3744635342168046, 'thermal': 7.729061444482464, 'method': 2.568380831794509, 'speed': 5.585811527406611, 'upon': 4.744260915616639, 'avail': 4.636432820997829, 'suggest': 4.760481472791865, '23': 5.892485970887805, '1956': 4.776922724582906, 'anoth': 6.071838688785706, 'research': 4.744260915616639, 'structur': 12.014675526035036, 'aerelast': 15.448212127878516, 'consider': 6.482490618689668, 'high': 6.174415285398354, 'flight': 9.848170977115574, 'domin': 7.1790966558995555, 'factor': 7.900684779493168, 'design': 3.9728836038661672, 'aircraft': 7.978886209666546, 'aeroelast': 10.842020293599793, 'matter': 8.286354623013406, 'concern': 4.898736470310763, 'larg': 3.5529867251450886, 'interrel': 8.286354623013406, 'summari': 6.611137988468399, 'tool': 7.063922560752333, 'meet': 7.448746305740902, 'demand': 8.286354623013406, 'state': 4.993936336057155, 'art': 8.633993484389345, 'respect': 4.458605556741008, 'transfer': 3.6663585628880897, 'mode': 5.075894067958294, 'failur': 5.700270067912325, 'combin': 4.259674156217049, 'acrothermoelast': 9.123962940285908, 'allevi': 7.448746305740902, 'summar': 6.53787838518483, 'final': 4.974286905305113, 'avenu': 8.633993484389345, 'fundament': 5.811895222577617, 'bisplinghoffrl': 9.123962940285908, '289': 8.633993484389345}, '16': {'experiment': 2.7598323863985574, 'stream': 3.6561410978875655, 'result': 1.941182217853866, 'show': 3.3467858529823458, 'remain': 4.9162140929977465, 'flow': 1.9039542831258809, 'j': 2.3936667570916534, 'ae': 2.865810151475226, 'sc': 2.776825346776903, '25': 4.938793178091618, '1958': 4.307249751216064, 'shear': 4.148462231679279, 'incompress': 6.5323607837849496, 'viscos': 4.730908947189988, 'boundari': 6.033925713192635, 'layer': 7.022270721953438, 'boundarylay': 3.6054569076208987, 'shown': 2.950308545772431, 'equat': 2.5621135114199047, 'pressur': 2.238358991126359, 'laminar': 3.188901825202066, 'friction': 4.571551466863005, 'analyt': 4.071317398401456, 'temperatur': 3.0677865632684282, 'gener': 2.7802545419543407, 'point': 3.234014781199479, 'given': 2.6054725964577483, 'element': 5.684404410978817, 'turbul': 8.983955344623066, 'measur': 3.090100514879638, 'function': 3.428682025068921, 'relat': 3.678572113825064, 'valu': 2.8732382333623874, 'good': 3.7895129681800745, 'agreement': 3.465664938513692, 'caus': 4.5389719208167225, 'mean': 3.724803035705355, 'coeffici': 3.228913177444594, 'analysi': 2.986765856932057, 'compress': 7.107997335774981, 'modif': 5.3133556627006975, 'applic': 3.249457995206622, 'compon': 4.712062129052342, 'comput': 3.8849471366479125, 'essenti': 4.712062129052342, 'demonstr': 5.137592049870931, 'includ': 3.223834298057919, 'thu': 4.431759497755798, 'transform': 13.772949154543065, 'equival': 5.058925926791648, 'first': 3.6341428617808087, 'stewartson': 7.180567909506291, 'except': 4.65732170349738, 'explicit': 5.983553860413008, 'requir': 3.716966533813092, 'key': 7.8186454891467365, 'fluctuat': 5.729124124503958, 'postul': 7.180567909506291, 'appar': 5.41256660354201, 'associ': 4.523024716288359, 'mass': 4.6222356571296705, 'invari': 7.180567909506291, 'rise': 5.137592049870931, 'separ': 3.678572113825064, 'independ': 4.851041695890019, 'report': 4.0091088879042935, 'selfpreserv': 8.146662468748396, 'magera': 7.564215753237686, '305': 8.146662468748396}, '17': {'experiment': 2.7088666034734494, 'studi': 3.0967443580915153, 'show': 3.2849808092700683, 'found': 2.759668836218539, 'flow': 4.876501883298905, 'experi': 3.5959141031593056, 'incompress': 6.411727776021268, 'viscos': 9.744997081109773, 'bodi': 2.931609297039966, 'necessari': 4.643543323237883, 'boundari': 4.202188869040647, 'layer': 4.47229275276493, 'hyperson': 3.4779998441119866, 'boundarylay': 3.53887498945614, 'libbi': 7.424527495364433, 'polytechn': 6.444746342627559, 'institut': 5.623324475974758, 'equat': 2.514798999967666, 'comparison': 3.687324100987802, 'case': 2.6167426755043506, 'gener': 4.620449021142679, 'refer': 4.681484257006419, 'laboratori': 5.016382050562616, 'space': 5.016382050562616, 'turbul': 6.25666919740018, 'avail': 4.293949081961514, 'data': 5.41751380680658, 'suggest': 4.408834515451938, 'extend': 4.1651692000870755, 'desir': 5.496492636994579, 'extens': 4.349918262160452, 'compress': 8.674948893772909, 'mix': 8.324927754898575, 'carri': 4.393812137412505, 'brooklyn': 6.648791578582284, 'differenti': 4.0066409728961565, 'applic': 5.400208789027944, 'estim': 6.783832866775083, 'sever': 3.7611409843988026, 'form': 3.154395748725553, 'transform': 10.950561152591114, 'mass': 4.5368769011809515, 'invari': 7.047964470558877, 'remark': 10.619806091654649, 'eddi': 13.729384247488888, 'connect': 5.3126128179631005, 'wake': 8.365679568041335, 'behind': 4.48712869508912, 'missil': 5.2467614511692, 'vehicl': 4.571315014061217, 'divis': 6.898522764407663, 'electr': 5.016382050562616, 'compani': 7.424527495364433, 'axisymmetr': 4.720756720212431, 'lack': 6.542125156525353, 'make': 4.825426441721558, 'ration': 6.898522764407663, 'appli': 5.515623949399426, 'infinitesim': 6.444746342627559, 'mager': 7.424527495364433, 'partial': 5.0696849987436625, 'valid': 4.455150795026767, 'assumpt': 3.9754068426227125, 'establish': 4.847588559192609, 'lu': 7.996218176191856, 'ting': 7.424527495364433, 'paul': 7.424527495364433, 'scienc': 6.766705837629603, 'inc': 6.766705837629603}}\n"
     ]
    }
   ],
   "source": [
    "import math\n",
    "from collections import defaultdict\n",
    "\n",
    "def compute_tf_idf(inverted_index, documents):\n",
    "    \"\"\"Compute the TF-IDF matrix from an inverted index.\"\"\"\n",
    "    N = len(documents)  # Total number of documents\n",
    "    tf_idf = defaultdict(dict)  # Store TF-IDF scores\n",
    "\n",
    "    # Compute document lengths based on preprocessed text\n",
    "    doc_lengths = {doc[0]: len(preprocess_text(doc[4])) for doc in documents}\n",
    "    avg_doc_length = sum(doc_lengths.values()) / N  # Compute average document length\n",
    "\n",
    "    print(\"Sample doc length:\", doc_lengths['1'])  # Verify document length\n",
    "    print(\"Summed TF from index:\", sum(inverted_index[term]['1'] for term in inverted_index if '1' in inverted_index[term]))\n",
    "\n",
    "    for term, doc_freqs in inverted_index.items():\n",
    "        df = len(doc_freqs)  # Number of documents containing the term\n",
    "        if df == 0:\n",
    "            print(f\"Warning: Term '{term}' has df=0, check indexing!\")\n",
    "\n",
    "        idf = math.log((N + 1) / (df + 1)) + 1  # Smoothed IDF to avoid zero division\n",
    "\n",
    "        for (doc_id, freq) in doc_freqs:\n",
    "            doc_length = doc_lengths[doc_id]  # Get the length of the document\n",
    "            tf = (1 + math.log(freq)) if freq > 0 else 0  # Logarithmic TF\n",
    "            \n",
    "            # BM25-like length normalization\n",
    "            tf /= (1 - 0.75 + 0.75 * (doc_length / avg_doc_length))\n",
    "\n",
    "            tf_idf_score = tf * idf  # Compute final TF-IDF score\n",
    "\n",
    "            tf_idf[doc_id][term] = tf_idf_score  # Store the score\n",
    "\n",
    "    return tf_idf\n",
    "\n",
    "tf_idf = compute_tf_idf(inverted_index, documents)\n",
    "print(dict(list(tf_idf.items())[:5]))  # Display first 5 documents in the TF-IDF matrix\n"
   ]
  },
  {
   "cell_type": "code",
   "execution_count": 39,
   "metadata": {},
   "outputs": [],
   "source": [
    "from nltk.stem import PorterStemmer\n",
    "from nltk.tokenize import word_tokenize\n",
    "\n",
    "stemmer = PorterStemmer()\n",
    "\n",
    "# def preprocess_query(query):\n",
    "#     # Remove newline characters and extra spaces\n",
    "#     query = re.sub(r'\\s+', ' ', query).strip()\n",
    "\n",
    "#     # Convert to lowercase\n",
    "#     query = query.lower()\n",
    "\n",
    "#     # Remove punctuation and tokenize\n",
    "#     query = re.sub(r'[^\\w\\s]', '', query)  # Keep only alphanumeric and whitespace characters\n",
    "#     tokens = word_tokenize(query)\n",
    "\n",
    "#     stop_words = set(stopwords.words('english'))\n",
    "#     filtered_tokens = [word for word in tokens if word not in stop_words]\n",
    "#     stemmer = PorterStemmer()\n",
    "#     filtered_tokens = [stemmer.stem(word) for word in filtered_tokens]\n",
    "\n",
    "#     return filtered_tokens"
   ]
  },
  {
   "cell_type": "code",
   "execution_count": 40,
   "metadata": {},
   "outputs": [
    {
     "name": "stdout",
     "output_type": "stream",
     "text": [
      "['experiment', 'investig', 'aerodynam', 'wing', 'slipstream']\n"
     ]
    }
   ],
   "source": [
    "print(preprocess_text(\"experimental investigation of the aerodynamics of a wing in a slipstream.\"))\n"
   ]
  },
  {
   "cell_type": "code",
   "execution_count": 41,
   "metadata": {},
   "outputs": [],
   "source": [
    "# import numpy as np\n",
    "\n",
    "# def compute_cosine_similarity(tf_idf, query, inverted_index, N):\n",
    "#     \"\"\"Compute cosine similarity between query and documents.\"\"\"\n",
    "#     query_tf_idf = {}\n",
    "\n",
    "#     # Compute TF-IDF for query using the same IDF values as the document matrix\n",
    "#     for term in query:\n",
    "#         if term in inverted_index:\n",
    "#             df = len(inverted_index[term])  # Document frequency\n",
    "#             idf = math.log(N / df) if df > 0 else 0  # Compute IDF\n",
    "#             tf = compute_tf(query.count(term), len(query), method=\"raw\")  # Query term frequency\n",
    "#             query_tf_idf[term] = tf * idf  # TF-IDF for query\n",
    "\n",
    "#     # Compute cosine similarity for each document\n",
    "#     scores = {}\n",
    "#     for doc_id, doc_vector in tf_idf.items():\n",
    "#         doc_norm = np.linalg.norm(list(doc_vector.values()))  # Document vector norm\n",
    "#         query_norm = np.linalg.norm(list(query_tf_idf.values()))  # Query vector norm\n",
    "\n",
    "#         # Compute dot product\n",
    "#         dot_product = sum(doc_vector.get(term, 0) * query_tf_idf.get(term, 0) for term in query_tf_idf)\n",
    "\n",
    "#         # Compute cosine similarity\n",
    "#         if doc_norm > 0 and query_norm > 0:\n",
    "#             scores[doc_id] = dot_product / (doc_norm * query_norm)\n",
    "#         else:\n",
    "#             scores[doc_id] = 0\n",
    "\n",
    "#     # Rank documents by score\n",
    "#     ranked_docs = sorted(scores.items(), key=lambda x: x[1], reverse=True)\n",
    "#     return ranked_docs\n",
    "\n",
    "# # Example usage:\n",
    "# query = \"three-dimensional problems\"\n",
    "\n",
    "# # preprocess query\n",
    "# query = preprocess_text(query)\n",
    "\n",
    "# ranked_results = compute_cosine_similarity(tf_idf, query, inverted_index, len(documents))\n",
    "# print(ranked_results[:10])  # Show top 10 ranked documents"
   ]
  },
  {
   "cell_type": "code",
   "execution_count": 42,
   "metadata": {},
   "outputs": [],
   "source": [
    "# Create a lookup dictionary for document titles and full texts\n",
    "doc_lookup = {doc[0]: (doc[1], doc[4]) for doc in documents}  # { \"1\": (\"Title 1\", \"Full text...\"), ... }\n",
    "\n",
    "def display_results(ranked_results, doc_lookup, top_n=10):\n",
    "    \"\"\"Display the top N ranked results with their titles and allow the user to read one.\"\"\"\n",
    "    print(\"\\nTop Search Results:\\n\")\n",
    "    for rank, (doc_id, score) in enumerate(ranked_results[:top_n], start=1):\n",
    "        title = doc_lookup.get(doc_id, (\"Unknown Title\", \"\"))[0]\n",
    "        print(f\"{rank}. [{doc_id}] {title} (Score: {score:.4f})\")\n",
    "\n",
    "    # Ask user if they want to read a document\n",
    "    doc_id_to_read = input(\"\\nEnter a document ID to read (or press Enter to skip): \").strip()\n",
    "    if doc_id_to_read in doc_lookup:\n",
    "        title, text = doc_lookup[doc_id_to_read]\n",
    "        print(f\"\\n=== {title} ===\\n{text[:500]}...\")  # Show only first 500 characters\n",
    "    else:\n",
    "        print(\"No document selected or invalid ID.\")\n",
    "\n",
    "# display_results(ranked_results, doc_lookup)"
   ]
  },
  {
   "cell_type": "code",
   "execution_count": 43,
   "metadata": {},
   "outputs": [],
   "source": [
    "import xml.etree.ElementTree as ET\n",
    "\n",
    "def parse_queries(filename):\n",
    "    \"\"\"Parse queries from the Cranfield XML file.\"\"\"\n",
    "    queries = {}\n",
    "    tree = ET.parse(filename)\n",
    "    root = tree.getroot()\n",
    "    \n",
    "    for top in root.findall(\"top\"):\n",
    "        num = top.find(\"num\").text.strip()  # Extract query number\n",
    "        title = top.find(\"title\").text.strip()  # Extract query text\n",
    "        \n",
    "        if num and title:\n",
    "            queries[num] = title\n",
    "\n",
    "    return queries\n"
   ]
  },
  {
   "cell_type": "code",
   "execution_count": 52,
   "metadata": {},
   "outputs": [],
   "source": [
    "def min_max_normalize(scores):\n",
    "    \"\"\"Normalize scores using Min-Max scaling, keeping document IDs as strings.\"\"\"\n",
    "    scores = {str(doc_id): float(score) for doc_id, score in scores.items()}  # Ensure float values\n",
    "    min_score = min(scores.values())\n",
    "    max_score = max(scores.values())\n",
    "    if max_score - min_score == 0:\n",
    "        return {doc_id: 0.0 for doc_id in scores}  # Avoid division by zero\n",
    "    return {doc_id: (score - min_score) / (max_score - min_score) for doc_id, score in scores.items()}\n"
   ]
  },
  {
   "cell_type": "code",
   "execution_count": 53,
   "metadata": {},
   "outputs": [],
   "source": [
    "def compute_cosine_similarity(tf_idf, query, inverted_index, N):\n",
    "    \"\"\"Compute cosine similarity between query and documents.\"\"\"\n",
    "    query_tf_idf = {}\n",
    "\n",
    "    # Compute TF-IDF for query using the same IDF values as the document matrix\n",
    "    for term in query:\n",
    "        if term in inverted_index:\n",
    "            df = len(inverted_index[term])  # Document frequency\n",
    "            idf = math.log(N / df) if df > 0 else 0  # Compute IDF\n",
    "            tf = compute_tf(query.count(term), len(query), method=\"raw\")  # Query term frequency\n",
    "            query_tf_idf[term] = tf * idf  # TF-IDF for query\n",
    "\n",
    "    # Compute cosine similarity for each document\n",
    "    scores = {}\n",
    "    for doc_id, doc_vector in tf_idf.items():\n",
    "        doc_norm = np.linalg.norm(list(doc_vector.values()))  # Document vector norm\n",
    "        query_norm = np.linalg.norm(list(query_tf_idf.values()))  # Query vector norm\n",
    "\n",
    "        # Compute dot product\n",
    "        dot_product = sum(doc_vector.get(term, 0) * query_tf_idf.get(term, 0) for term in query_tf_idf)\n",
    "\n",
    "        # Compute cosine similarity\n",
    "        if doc_norm > 0 and query_norm > 0:\n",
    "            scores[doc_id] = dot_product / (doc_norm * query_norm)\n",
    "        else:\n",
    "            scores[doc_id] = 0\n",
    "\n",
    "    # Normalize scores\n",
    "    if type(scores) == str:\n",
    "        print(scores)\n",
    "    scores = min_max_normalize(scores)\n",
    "    \n",
    "    # Rank documents by score\n",
    "    ranked_docs = sorted(scores.items(), key=lambda x: x[1], reverse=True)[:100]\n",
    "    return ranked_docs"
   ]
  },
  {
   "cell_type": "code",
   "execution_count": 56,
   "metadata": {},
   "outputs": [
    {
     "name": "stdout",
     "output_type": "stream",
     "text": [
      "len(queries): 225\n"
     ]
    }
   ],
   "source": [
    "vsm_results = {}\n",
    "\n",
    "queries = parse_queries(\"cran_updated.qry.xml\")  # Load queries from XML file\n",
    "print(\"len(queries):\", len(queries))\n",
    "# print(queries)\n",
    "\n",
    "for query_id, query_text in queries.items():\n",
    "    query_text = preprocess_text(query_text)  # Apply the same preprocessing as indexing\n",
    "    ranked_docs = compute_cosine_similarity(tf_idf, query_text, inverted_index, len(documents))\n",
    "    vsm_results[query_id] = ranked_docs\n",
    "    # if query_id == '1':\n",
    "    #     print(\"query = \", query_text)\n",
    "    #     display_results(ranked_docs, doc_lookup, top_n=10)\n"
   ]
  },
  {
   "cell_type": "code",
   "execution_count": 57,
   "metadata": {},
   "outputs": [],
   "source": [
    "def save_results_trec_format(ranked_results, model_name, output_file):\n",
    "    \"\"\"\n",
    "    Save ranked results in TREC format: query_id Q0 doc_id rank score model_name\n",
    "    \"\"\"\n",
    "    with open(output_file, 'w') as f:\n",
    "        for query_id, results in ranked_results.items():\n",
    "            for rank, (doc_id, score) in enumerate(results, start=1):\n",
    "                f.write(f\"{query_id} 0 {doc_id} {rank} {score:.4f} {model_name}\\n\")\n",
    "\n",
    "# Save VSM results\n",
    "save_results_trec_format(vsm_results, \"VSM\", \"vsm_results3.txt\")\n"
   ]
  },
  {
   "cell_type": "code",
   "execution_count": 58,
   "metadata": {},
   "outputs": [],
   "source": [
    "import math\n",
    "from collections import defaultdict\n",
    "\n",
    "def compute_bm25(inverted_index, documents, queries, k1=1.5, b=0.75):\n",
    "    N = len(documents)  # Total number of documents\n",
    "    doc_lengths = {doc[0]: len(doc[4].split()) for doc in documents}  # Document lengths\n",
    "    avg_doc_length = sum(doc_lengths.values()) / N  # Average document length\n",
    "    \n",
    "    # Compute IDF for each term\n",
    "    idf = {}\n",
    "    for term, doc_freqs in inverted_index.items():\n",
    "        df = len(doc_freqs)  # Number of documents containing the term\n",
    "        idf[term] = math.log((N - df + 0.5) / (df + 0.5) + 1)\n",
    "    \n",
    "    bm25_scores = defaultdict(dict)  # Store BM25 scores\n",
    "    \n",
    "    for query_id, query_text in queries.items():\n",
    "        query_terms = preprocess_text(query_text)\n",
    "        \n",
    "        for term in query_terms:\n",
    "            if term in inverted_index:\n",
    "                for doc_id, tf in inverted_index[term]:\n",
    "                    doc_length = doc_lengths[doc_id]\n",
    "                    tf_weight = (tf * (k1 + 1)) / (tf + k1 * (1 - b + b * (doc_length / avg_doc_length)))\n",
    "                    bm25_scores[query_id][doc_id] = bm25_scores[query_id].get(doc_id, 0) + idf[term] * tf_weight\n",
    "    \n",
    "    return bm25_scores\n"
   ]
  },
  {
   "cell_type": "code",
   "execution_count": 59,
   "metadata": {},
   "outputs": [
    {
     "name": "stdout",
     "output_type": "stream",
     "text": [
      "BM25 results saved. Run trec_eval to evaluate performance.\n"
     ]
    }
   ],
   "source": [
    "bm25_scores = compute_bm25(inverted_index, documents, queries)\n",
    "\n",
    "# Format results in TREC format and save\n",
    "with open(\"bm25_results.txt\", \"w\") as f:\n",
    "    for query_id, scores in bm25_scores.items():\n",
    "        ranked_docs = sorted(scores.items(), key=lambda x: x[1], reverse=True)[:1000]  # Keep top 1000 results\n",
    "        for rank, (doc_id, score) in enumerate(ranked_docs, start=1):\n",
    "            f.write(f\"{query_id} 0 {doc_id} {rank} {score:.4f} BM25\\n\")\n",
    "\n",
    "print(\"BM25 results saved. Run trec_eval to evaluate performance.\")"
   ]
  }
 ],
 "metadata": {
  "kernelspec": {
   "display_name": "Python 3",
   "language": "python",
   "name": "python3"
  },
  "language_info": {
   "codemirror_mode": {
    "name": "ipython",
    "version": 3
   },
   "file_extension": ".py",
   "mimetype": "text/x-python",
   "name": "python",
   "nbconvert_exporter": "python",
   "pygments_lexer": "ipython3",
   "version": "3.12.1"
  }
 },
 "nbformat": 4,
 "nbformat_minor": 2
}
